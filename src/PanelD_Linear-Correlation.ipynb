{
 "cells": [
  {
   "attachments": {},
   "cell_type": "markdown",
   "metadata": {},
   "source": [
    "## Linear correlation of non-explicitely encoded variables with observations and LSTM output (panel D)"
   ]
  },
  {
   "cell_type": "code",
   "execution_count": null,
   "metadata": {},
   "outputs": [],
   "source": [
    "import os\n",
    "import torch\n",
    "import numpy as np\n",
    "import pandas as pd\n",
    "from definitions import ROOT_DIR\n",
    "import sklearn.linear_model\n",
    "from envs.environment_factory import EnvironmentFactory\n",
    "from sb3_contrib import RecurrentPPO\n",
    "from stable_baselines3.common.vec_env import VecNormalize\n",
    "from functions_notebook import make_parallel_envs\n",
    "from matplotlib.cm import get_cmap\n",
    "import matplotlib.pyplot as plt\n",
    "import scipy.stats as stats\n"
   ]
  },
  {
   "cell_type": "markdown",
   "metadata": {},
   "source": [
    "# Load the dataset and run linear regressions"
   ]
  },
  {
   "cell_type": "code",
   "execution_count": null,
   "metadata": {},
   "outputs": [],
   "source": [
    "df1 = pd.read_hdf(os.path.join(ROOT_DIR, \"data\", \"rollouts\", \"final_model_500_episodes_activations_info_ccw\", \"data.hdf\"))\n",
    "df2 = pd.read_hdf(os.path.join(ROOT_DIR, \"data\", \"rollouts\", \"final_model_500_episodes_activations_info_cw\", \"data.hdf\"))\n",
    "\n",
    "df = pd.concat((df1, df2)).reset_index()\n",
    "df.keys()"
   ]
  },
  {
   "cell_type": "code",
   "execution_count": null,
   "metadata": {},
   "outputs": [],
   "source": [
    "results_list = []\n",
    "regression = sklearn.linear_model.LinearRegression()\n",
    "for target in [\"mass_1\", \"mass_2\", \"size_1\", \"size_2\", \"friction_0\", \"friction_1\", \"friction_2\", \"x_radius\", \"y_radius\"]:\n",
    "    for key in [\"observation\", \"lstm_state_0\", \"lstm_state_1\", \"lstm_out\", \"layer_1_out\", \"layer_2_out\", \"action\"]:\n",
    "        X = np.array(df[key].to_list())\n",
    "        y = df[target].to_numpy()\n",
    "        cv = sklearn.model_selection.KFold(n_splits=5, shuffle=True, random_state=42)\n",
    "        cv_score = sklearn.model_selection.cross_val_score(regression, X, y, cv=cv)\n",
    "        print(\"Key:\", key, \" target:\", target,  \"score:\", cv_score)\n",
    "        results_list.append({\"input\": key, \"target\": target, \"score\": cv_score})\n"
   ]
  },
  {
   "cell_type": "code",
   "execution_count": null,
   "metadata": {},
   "outputs": [],
   "source": [
    "classification = sklearn.linear_model.LogisticRegression(max_iter=10_000)\n",
    "target = \"task\"\n",
    "for key in [\"observation\", \"lstm_state_0\", \"lstm_state_1\", \"lstm_out\", \"layer_1_out\", \"layer_2_out\", \"action\"]:\n",
    "    X = np.array(df[key].to_list())\n",
    "    y = df[target].to_numpy()\n",
    "    cv = sklearn.model_selection.StratifiedKFold(n_splits=5, shuffle=True, random_state=42)\n",
    "    cv_score = sklearn.model_selection.cross_val_score(classification, X, y, cv=cv)\n",
    "    print(\"Key:\", key, \" target:\", target,  \"score:\", cv_score)\n",
    "    results_list.append({\"input\": key, \"target\": target, \"score\": cv_score})"
   ]
  },
  {
   "cell_type": "code",
   "execution_count": null,
   "metadata": {},
   "outputs": [],
   "source": [
    "regression = sklearn.linear_model.LinearRegression()\n",
    "for target in [\"hand_pos\", \"hand_vel\"]:\n",
    "    for key in [\"observation\", \"lstm_state_0\", \"lstm_state_1\", \"lstm_out\", \"layer_1_out\", \"layer_2_out\", \"action\"]:\n",
    "        X = np.array(df[key].to_list())\n",
    "        y = np.array(df[target].to_list())\n",
    "\n",
    "        cv = sklearn.model_selection.KFold(n_splits=5, shuffle=True, random_state=42)\n",
    "        cv_score = sklearn.model_selection.cross_val_score(regression, X, y, cv=cv)\n",
    "\n",
    "        print(\"Key:\", key, \" target:\", target,  \"score:\", cv_score)\n",
    "        results_list.append({\"input\": key, \"target\": target, \"score\": cv_score})"
   ]
  },
  {
   "cell_type": "code",
   "execution_count": null,
   "metadata": {},
   "outputs": [],
   "source": [
    "results_list_mean_sem = [{\n",
    "    \"input\": el[\"input\"],\n",
    "    \"target\": el[\"target\"],\n",
    "    \"score_mean\": np.mean(el[\"score\"]),\n",
    "    \"score_std\": np.std(el[\"score\"])\n",
    "    }\n",
    "    for el in results_list\n",
    "]\n",
    "results_df = pd.DataFrame(results_list_mean_sem)\n",
    "results_df"
   ]
  },
  {
   "cell_type": "code",
   "execution_count": null,
   "metadata": {},
   "outputs": [],
   "source": [
    "layers_list = [\"observation\", \"lstm_state_1\", \"lstm_out\", \"layer_1_out\", \"layer_2_out\", \"action\"]\n",
    "layers_name_list = [\"Observation\", \"LSTM state\", \"LSTM out\", \"Layer 1 out\", \"Layer 2 out\", \"Action\"]\n",
    "targets_list = [\"mass_1\", \"mass_2\", \"size_1\", \"size_2\", \"friction_0\", \"friction_1\", \"friction_2\", \"x_radius\", \"y_radius\", \"task\", \"hand_pos\", \"hand_vel\"]\n",
    "targets_name_list = [\"Mass 1\", \"Mass 2\", \"Size 1\", \"Size 2\", \"Friction 0\", \"Friction 1\", \"Friction 2\", \"Radius x\", \"Radius y\", \"Task\", \"Joint pos\", \"Joint vel\"]\n",
    "\n",
    "# Create a colormap with distinct colors\n",
    "num_value_types = len(set([value.split(\"_\")[0] for value in targets_list]))\n",
    "cmap = plt.get_cmap('brg')\n",
    "colors = [cmap(i % num_value_types) for i in range(len(targets_list))]\n",
    "\n",
    "fig, ax = plt.subplots(1)\n",
    "for target, target_name, c in zip(targets_list, targets_name_list, colors):\n",
    "    score_list = []\n",
    "    for layer in layers_list:\n",
    "        score = results_df[(results_df.input == layer) & (results_df.target == target)].score_mean.item()\n",
    "        score_list.append(score)\n",
    "    score_vec = np.array(score_list) / max(score_list)\n",
    "    ax.plot(score_vec, label=target_name, color=c)\n",
    "ax.legend()\n",
    "ax.set_xticks(range(6), labels=layers_name_list, rotation=30)\n",
    "ax.set_ylabel(\"Rescaled score\")\n",
    "ax.legend(bbox_to_anchor=(1, 1))\n",
    "plt.savefig(os.path.join(ROOT_DIR, \"data\", \"figures\", \"panel_4\", \"layer_encoding.png\"), format=\"png\", dpi=600, bbox_inches=\"tight\")\n",
    "plt.show()\n",
    "    "
   ]
  },
  {
   "cell_type": "code",
   "execution_count": null,
   "metadata": {},
   "outputs": [],
   "source": [
    "layers_list = [\"observation\", \"lstm_state_1\", \"lstm_out\", \"layer_1_out\", \"layer_2_out\", \"action\"]\n",
    "layers_name_list = [\"Observation\", \"LSTM state\", \"LSTM out\", \"Layer 1 out\", \"Layer 2 out\", \"Action\"]\n",
    "targets_list = [\"mass_1\", \"mass_2\", \"size_1\", \"size_2\", \"friction_0\", \"friction_1\", \"friction_2\", \"x_radius\", \"y_radius\", \"task\", \"hand_pos\", \"hand_vel\"]\n",
    "targets_name_list = [\"Mass 1\", \"Mass 2\", \"Size 1\", \"Size 2\", \"Friction 0\", \"Friction 1\", \"Friction 2\", \"Radius x\", \"Radius y\", \"Task\", \"Joint pos\", \"Joint vel\"]\n",
    "\n",
    "# Create a colormap with distinct colors\n",
    "num_value_types = len(set([value.split(\"_\")[0] for value in targets_list]))\n",
    "cmap = plt.get_cmap('tab20')\n",
    "colors = [cmap(i % num_value_types) for i in range(len(targets_list))]\n",
    "\n",
    "fig, ax = plt.subplots(1)\n",
    "for target, target_name, c in zip(targets_list, targets_name_list, colors):\n",
    "    score_list = []\n",
    "    for layer in layers_list:\n",
    "        score = results_df[(results_df.input == layer) & (results_df.target == target)].score_mean.item()\n",
    "        score_list.append(score)\n",
    "    score_vec = np.array(score_list) / max(score_list)\n",
    "    ax.plot(score_vec, label=target_name, color=c)\n",
    "ax.legend()\n",
    "ax.set_xticks(range(6), labels=layers_name_list, rotation=30)\n",
    "ax.set_ylabel(\"Rescaled score\")\n",
    "ax.legend(bbox_to_anchor=(1, 1))\n",
    "plt.savefig(os.path.join(ROOT_DIR, \"data\", \"figures\", \"panel_4\", \"layer_encoding.png\"), format=\"png\", dpi=600, bbox_inches=\"tight\")\n",
    "plt.show()"
   ]
  },
  {
   "cell_type": "code",
   "execution_count": null,
   "metadata": {},
   "outputs": [],
   "source": [
    "layers_list = [\"observation\", \"lstm_state_1\", \"lstm_out\", \"layer_1_out\", \"layer_2_out\", \"action\"]\n",
    "layers_name_list = [\"Observation\", \"Memory\", \"LSTM output\", \"Layer 1\", \"Layer 2\", \"Action\"]\n",
    "targets_list = [\"mass_1\", \"mass_2\", \"size_1\", \"size_2\", \"friction_0\", \"friction_1\", \"friction_2\", \"x_radius\", \"y_radius\", \"task\", \"hand_pos\", \"hand_vel\"]\n",
    "targets_name_list = [\"Mass 1\", \"Mass 2\", \"Size 1\", \"Size 2\", \"Friction 0\", \"Friction 1\", \"Friction 2\", \"Radius x\", \"Radius y\", \"Task\", \"Joint pos\", \"Joint vel\"]\n",
    "\n",
    "# Create a pivot table to reshape the data\n",
    "pivot_data = results_df.pivot(index=\"target\", columns=\"input\", values=\"score_mean\").loc[targets_list]\n",
    "pivot_std = results_df.pivot(index=\"target\", columns=\"input\", values=\"score_std\").loc[targets_list]\n",
    "\n",
    "# Set the width of each bar\n",
    "bar_width = 0.15\n",
    "\n",
    "# Create an array of x values for the bars\n",
    "x = np.arange(len(targets_list))\n",
    "\n",
    "# Create a grouped barplot\n",
    "fig, ax = plt.subplots(figsize=(5, 3.5))\n",
    "cmap = get_cmap(\"coolwarm\")\n",
    "\n",
    "\n",
    "for i, layer in enumerate(layers_list):\n",
    "    ax.bar(x + i * bar_width, pivot_data[layer], bar_width, yerr=pivot_std[layer], label=layers_name_list[i], color=cmap((i) / (len(layers_list))), alpha=0.9)\n",
    "\n",
    "# Set x-axis labels and tick positions\n",
    "ax.set_xticks(x + (len(pivot_data.columns) / 2) * bar_width)\n",
    "ax.set_xticklabels(targets_name_list, rotation=45, ha='right')\n",
    "\n",
    "# Set labels and title\n",
    "# ax.set_xlabel('Encoded quantity')\n",
    "ax.set_ylabel('Encoding score', fontsize=12)\n",
    "# ax.set_title('Encoding Value by Layer for Each Quantity')\n",
    "\n",
    "# Add a legend\n",
    "ax.legend()\n",
    "\n",
    "# Show the plot\n",
    "plt.tight_layout()\n",
    "plt.savefig(os.path.join(ROOT_DIR, \"data\", \"figures\", \"panel_4\", \"layer_encoding_barplot.png\"), format=\"png\", dpi=600, bbox_inches=\"tight\")\n",
    "\n",
    "plt.show()"
   ]
  }
 ],
 "metadata": {
  "kernelspec": {
   "display_name": "MyoChallenge2",
   "language": "python",
   "name": "python3"
  },
  "language_info": {
   "codemirror_mode": {
    "name": "ipython",
    "version": 3
   },
   "file_extension": ".py",
   "mimetype": "text/x-python",
   "name": "python",
   "nbconvert_exporter": "python",
   "pygments_lexer": "ipython3",
   "version": "3.9.0"
  },
  "orig_nbformat": 4
 },
 "nbformat": 4,
 "nbformat_minor": 2
}
