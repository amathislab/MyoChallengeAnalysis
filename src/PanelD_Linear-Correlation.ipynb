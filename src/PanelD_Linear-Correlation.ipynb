{
 "cells": [
  {
   "attachments": {},
   "cell_type": "markdown",
   "metadata": {},
   "source": [
    "## Linear correlation of non-explicitely encoded variables with observations and LSTM output (panel D)"
   ]
  },
  {
   "cell_type": "code",
   "execution_count": 2,
   "metadata": {},
   "outputs": [
    {
     "name": "stderr",
     "output_type": "stream",
     "text": [
      "/home/ingster/anaconda3/envs/MyoChallenge2/lib/python3.8/site-packages/tqdm/auto.py:21: TqdmWarning: IProgress not found. Please update jupyter and ipywidgets. See https://ipywidgets.readthedocs.io/en/stable/user_install.html\n",
      "  from .autonotebook import tqdm as notebook_tqdm\n"
     ]
    },
    {
     "name": "stdout",
     "output_type": "stream",
     "text": [
      "MyoSuite:> Registering Myo Envs\n"
     ]
    }
   ],
   "source": [
    "import os\n",
    "import torch\n",
    "import numpy as np\n",
    "import pandas as pd\n",
    "from definitions import ROOT_DIR\n",
    "import sklearn.linear_model\n",
    "from envs.environment_factory import EnvironmentFactory\n",
    "from sb3_contrib import RecurrentPPO\n",
    "from stable_baselines3.common.vec_env import VecNormalize\n",
    "from functions_notebook import make_parallel_envs\n",
    "import pickle"
   ]
  },
  {
   "attachments": {},
   "cell_type": "markdown",
   "metadata": {},
   "source": [
    "1. Record the observations and LSTM outputs together with hand's velocity and acceleration, ball mass, size and friction, and trajectory radius. __Go to 2. to directly load the previously-obtained data__"
   ]
  },
  {
   "cell_type": "code",
   "execution_count": 4,
   "metadata": {},
   "outputs": [
    {
     "name": "stdout",
     "output_type": "stream",
     "text": [
      "MyoSuite:> Registering Myo Envs\n"
     ]
    },
    {
     "name": "stderr",
     "output_type": "stream",
     "text": [
      "/home/ingster/anaconda3/envs/MyoChallenge2/lib/python3.8/site-packages/stable_baselines3/common/save_util.py:166: UserWarning: Could not deserialize object _last_lstm_states. Consider using `custom_objects` argument to replace this object.\n",
      "  warnings.warn(\n"
     ]
    },
    {
     "name": "stdout",
     "output_type": "stream",
     "text": [
      "0\n",
      "1\n",
      "2\n",
      "3\n",
      "4\n",
      "5\n",
      "6\n",
      "7\n",
      "8\n",
      "9\n",
      "10\n",
      "11\n",
      "12\n",
      "13\n",
      "14\n",
      "15\n",
      "16\n",
      "17\n",
      "18\n",
      "19\n",
      "20\n",
      "21\n",
      "22\n",
      "23\n",
      "24\n",
      "25\n",
      "26\n",
      "27\n",
      "28\n",
      "29\n",
      "30\n",
      "31\n",
      "32\n",
      "33\n",
      "34\n",
      "35\n",
      "36\n",
      "37\n",
      "38\n",
      "39\n",
      "40\n",
      "41\n",
      "42\n",
      "43\n",
      "44\n",
      "45\n",
      "46\n",
      "47\n",
      "48\n",
      "49\n"
     ]
    },
    {
     "data": {
      "text/plain": [
       "'fp=\"\"\\nfp_params = open(fp, \\'wb\\')\\npickle.dump({\\'Mass\\':M,\\'Radius\\':Ra,\\'Friction\\':Fr,\\'Size\\':S,\\'Velocity\\':VEL,\\'Acceleration\\':ACC,\\'LSTM\\':LSTM,\\'Observations\\':OBS},fp_params)\\nfp_params.close()'"
      ]
     },
     "execution_count": 4,
     "metadata": {},
     "output_type": "execute_result"
    }
   ],
   "source": [
    "PATH_TO_NORMALIZED_ENV = os.path.join(\n",
    "    ROOT_DIR,\n",
    "    \"trained_models/curriculum_steps_complete_baoding_winner/32_phase_2_smaller_rate_resume/env.pkl\",\n",
    ")\n",
    "PATH_TO_PRETRAINED_NET = os.path.join(\n",
    "    ROOT_DIR,\n",
    "    \"trained_models/curriculum_steps_complete_baoding_winner/32_phase_2_smaller_rate_resume/model.zip\",\n",
    ")\n",
    "\n",
    "config = {\n",
    "\"weighted_reward_keys\": {\n",
    "    \"pos_dist_1\": 0,\n",
    "    \"pos_dist_2\": 0,\n",
    "    \"act_reg\": 0,\n",
    "    \"alive\": 0,\n",
    "    \"solved\": 5,\n",
    "    \"done\": 0,\n",
    "    \"sparse\": 0\n",
    "},\n",
    "\"enable_rsi\": False,\n",
    "\"rsi_probability\": 0,\n",
    "\"balls_overlap\": False,\n",
    "\"overlap_probability\": 0,\n",
    "\"noise_fingers\": 0,\n",
    "\"limit_init_angle\": 3.141592653589793,\n",
    "\"goal_time_period\": [\n",
    "    4,\n",
    "    6\n",
    "],\n",
    "\"goal_xrange\": [\n",
    "    0.02,\n",
    "    0.03\n",
    "],\n",
    "\"goal_yrange\": [\n",
    "    0.022,\n",
    "    0.032\n",
    "],\n",
    "\"obj_size_range\": [\n",
    "    0.018,\n",
    "    0.021\n",
    "],\n",
    "\"obj_mass_range\": [\n",
    "    0.03,\n",
    "    0.3\n",
    "],\n",
    "\"obj_friction_change\": [\n",
    "    0.2,\n",
    "    0.001,\n",
    "    2e-05\n",
    "],\n",
    "\"task_choice\": \"fixed\"\n",
    "}\n",
    "\n",
    "env_name = 'CustomMyoBaodingBallsP2'\n",
    "render = False\n",
    "\n",
    "envs = make_parallel_envs(env_name, config, num_env=1)\n",
    "envs = VecNormalize.load(PATH_TO_NORMALIZED_ENV, envs)\n",
    "envs.training = False\n",
    "envs.norm_reward = False\n",
    "custom_objects = {\n",
    "    \"learning_rate\": lambda _: 0,\n",
    "    \"lr_schedule\": lambda _: 0,\n",
    "    \"clip_range\": lambda _: 0,\n",
    "}\n",
    "model = RecurrentPPO.load(\n",
    "    PATH_TO_PRETRAINED_NET, env=envs, device=\"cpu\", custom_objects=custom_objects\n",
    ")\n",
    "\n",
    "# EVALUATE\n",
    "eval_model = model\n",
    "eval_env = EnvironmentFactory.create(env_name, **config)   \n",
    "\n",
    "num_episodes = 50\n",
    "M = []; Ra = []; Fr = []; S = []; VEL = []; ACC = []\n",
    "LSTM = []; OBS = []\n",
    "\n",
    "for n in range(num_episodes) :\n",
    "    print(n)\n",
    "    data_tot = []\n",
    "    lstm_tot = []; obs_tot = []\n",
    "    lstm_states = None\n",
    "    cum_rew = 0\n",
    "    step = 0\n",
    "    obs = eval_env.reset()\n",
    "    episode_starts = np.ones((1,), dtype=bool)\n",
    "    done = False\n",
    "    while not done:\n",
    "        if render:\n",
    "            eval_env.sim.render(mode=\"window\")\n",
    "\n",
    "        action, lstm_states = eval_model.predict(\n",
    "            envs.normalize_obs(obs),\n",
    "            state=lstm_states,\n",
    "            episode_start=episode_starts,\n",
    "            deterministic=True,\n",
    "        )\n",
    "        obs, rewards, done, info = eval_env.step(action)\n",
    "        episode_starts = done\n",
    "        cum_rew += rewards\n",
    "        step += 1\n",
    "\n",
    "        mlp1_output = model.policy.mlp_extractor.policy_net[0](torch.Tensor(np.squeeze(lstm_states[0]))) # the input of the first linear layer is h_n = lstm_states[0]\n",
    "        mlp2_output = model.policy.mlp_extractor.policy_net[2](model.policy.mlp_extractor.policy_net[1](mlp1_output)) # the output of the first linear transformation is activated by ReLU() before being processed in the second linear layer \n",
    "        \n",
    "        d = {'episode' : n, 'time step': step, 'observation': obs, 'LSTM output' : np.squeeze(lstm_states[0])}\n",
    "        data_tot.append(d)\n",
    "        lstm_tot.append(np.squeeze(lstm_states[0]))\n",
    "        obs_tot.append(obs)\n",
    "\n",
    "    hand_positions = np.array([d.get('observation')[0:23] for d in data_tot])\n",
    "    \n",
    "    hand_velocities = np.array([np.diff(pos)/0.0025 for pos in hand_positions.T]).T\n",
    "    hand_velocities = np.vstack((np.zeros((1,23)),hand_velocities))\n",
    "    \n",
    "    hand_accelerations = np.array([np.diff(vel)/0.0025 for vel in hand_velocities.T]).T\n",
    "    hand_accelerations = np.vstack((hand_accelerations,np.zeros((1,23))))\n",
    "\n",
    "    VEL.append(hand_velocities)\n",
    "    ACC.append(hand_accelerations)\n",
    "\n",
    "    OBS.append(np.array(obs_tot))\n",
    "    LSTM.append(np.array(lstm_tot))\n",
    "\n",
    "    mass = np.full((step,1),eval_env.sim.model.body_mass[eval_env.object1_bid])\n",
    "    size = np.full((step,3),eval_env.sim.model.geom_size[eval_env.object1_gid])\n",
    "    friction = np.full((step,3),eval_env.sim.model.geom_friction[eval_env.object1_gid])\n",
    "    r = np.array([eval_env.x_radius, eval_env.y_radius])\n",
    "    radius = np.full((step,2),r)\n",
    "\n",
    "    M.append(mass)\n",
    "    Ra.append(radius)\n",
    "    Fr.append(friction)\n",
    "    S.append(size)\n",
    "\n",
    "M=np.concatenate(M,axis=0)\n",
    "Ra=np.concatenate(Ra,axis=0)\n",
    "Fr=np.concatenate(Fr,axis=0)\n",
    "S=np.concatenate(S,axis=0)\n",
    "VEL=np.concatenate(VEL,axis=0)\n",
    "ACC=np.concatenate(ACC,axis=0)\n",
    "\n",
    "OBS=np.concatenate(OBS,axis=0)\n",
    "LSTM=np.concatenate(LSTM,axis=0)\n",
    "\n",
    "'''fp=\"\"\n",
    "fp_params = open(fp, 'wb')\n",
    "pickle.dump({'Mass':M,'Radius':Ra,'Friction':Fr,'Size':S,'Velocity':VEL,'Acceleration':ACC,'LSTM':LSTM,'Observations':OBS},fp_params)\n",
    "fp_params.close()'''"
   ]
  },
  {
   "attachments": {},
   "cell_type": "markdown",
   "metadata": {},
   "source": [
    "2. Load the data"
   ]
  },
  {
   "cell_type": "code",
   "execution_count": 5,
   "metadata": {},
   "outputs": [],
   "source": [
    "# Load the file from Basecamp : 'lin_corr'\n",
    "params = pickle.load(open('/home/ingster/Bureau/SIL-BigResults/lin_corr','rb'))\n",
    "\n",
    "M=params['Mass']\n",
    "Ra=params['Radius']\n",
    "Fr=params['Friction']\n",
    "S=params['Size']\n",
    "VEL=params['Velocity']\n",
    "ACC=params['Acceleration']\n",
    "OBS=params['Observations']\n",
    "LSTM=params['LSTM']"
   ]
  },
  {
   "attachments": {},
   "cell_type": "markdown",
   "metadata": {},
   "source": [
    "3. __Go to 4. to directly access the previously-obtained data.__\\\n",
    "a. Compute the linear regression and the associated coefficient of determination\\\n",
    "b. Save the data "
   ]
  },
  {
   "cell_type": "code",
   "execution_count": 6,
   "metadata": {},
   "outputs": [
    {
     "name": "stdout",
     "output_type": "stream",
     "text": [
      "{'hand velocity': 0.67282, 'hand acceleration': 0.43767, 'mass': 0.76064, 'size': 0.62964, 'friction': 0.06882, 'radius': 0.15411}\n",
      "{'hand velocity': 0.68337, 'hand acceleration': 0.53705, 'mass': 0.62893, 'size': 0.33984, 'friction': 0.07743, 'radius': 0.2329}\n"
     ]
    }
   ],
   "source": [
    "regression = sklearn.linear_model.LinearRegression()\n",
    "\n",
    "R_lstm = {'hand velocity':None,'hand acceleration':None,'mass':None,'size':None,'friction':None,'radius':None}\n",
    "R_obs = {'hand velocity':None,'hand acceleration':None,'mass':None,'size':None,'friction':None,'radius':None}\n",
    "\n",
    "layers = [OBS,LSTM]\n",
    "R = [R_obs,R_lstm]\n",
    "\n",
    "for i in range(len(R)):\n",
    "\n",
    "    lin_model = regression.fit(y=VEL,X=layers[i])\n",
    "    R[i]['hand velocity'] = np.round(lin_model.score(y=VEL,X=layers[i]),5)\n",
    "\n",
    "    lin_model = regression.fit(y=ACC,X=layers[i])\n",
    "    R[i]['hand acceleration'] = np.round(lin_model.score(y=ACC,X=layers[i]),5)\n",
    "\n",
    "    lin_model = regression.fit(y=M,X=layers[i])\n",
    "    R[i]['mass'] = np.round(lin_model.score(X=layers[i],y=M),5)\n",
    "\n",
    "    lin_model = regression.fit(y=S,X=layers[i])\n",
    "    R[i]['size'] = np.round(lin_model.score(y=S,X=layers[i]),5)\n",
    "\n",
    "    lin_model = regression.fit(y=Fr,X=layers[i])\n",
    "    R[i]['friction'] = np.round(lin_model.score(y=Fr,X=layers[i]),5)\n",
    "\n",
    "    lin_model = regression.fit(y=Ra,X=layers[i])\n",
    "    R[i]['radius'] = np.round(lin_model.score(y=Ra,X=layers[i]),5)\n",
    "\n",
    "for R_layer in R : \n",
    "    print(R_layer)\n",
    "\n",
    "fp = \".csv\"\n",
    "pd.DataFrame(R).to_csv(os.path.join(ROOT_DIR,fp))"
   ]
  },
  {
   "attachments": {},
   "cell_type": "markdown",
   "metadata": {},
   "source": [
    "4. Load the previously-obtained R squared"
   ]
  },
  {
   "cell_type": "code",
   "execution_count": null,
   "metadata": {},
   "outputs": [],
   "source": [
    "# Load the file from Basecamp : 'v2_32_phase_2_smaller_rate_resume.csv'\n",
    "R = pd.read_csv(os.path.join(ROOT_DIR,\"SIL-Results/Linear-correlation/v2_32_phase_2_smaller_rate_resume.csv\"))"
   ]
  }
 ],
 "metadata": {
  "kernelspec": {
   "display_name": "MyoChallenge2",
   "language": "python",
   "name": "python3"
  },
  "language_info": {
   "codemirror_mode": {
    "name": "ipython",
    "version": 3
   },
   "file_extension": ".py",
   "mimetype": "text/x-python",
   "name": "python",
   "nbconvert_exporter": "python",
   "pygments_lexer": "ipython3",
   "version": "3.8.16"
  },
  "orig_nbformat": 4
 },
 "nbformat": 4,
 "nbformat_minor": 2
}
