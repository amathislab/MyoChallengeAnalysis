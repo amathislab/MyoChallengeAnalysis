{
 "cells": [
  {
   "cell_type": "code",
   "execution_count": 17,
   "metadata": {},
   "outputs": [],
   "source": [
    "import requests\n",
    "import os\n",
    "import zipfile\n",
    "from tqdm import tqdm\n",
    "from definitions import ROOT_DIR"
   ]
  },
  {
   "cell_type": "code",
   "execution_count": 18,
   "metadata": {},
   "outputs": [],
   "source": [
    "# Define the URL of the dataset\n",
    "dataset_url = \"https://zenodo.org/record/13332869/files/datasets.zip\"\n",
    "\n",
    "# Define the path where you want to download the dataset\n",
    "data_path = os.path.join(ROOT_DIR, \"data\")\n",
    "\n",
    "# Create the data directory if it doesn't exist\n",
    "os.makedirs(data_path, exist_ok=True)"
   ]
  },
  {
   "cell_type": "code",
   "execution_count": null,
   "metadata": {},
   "outputs": [],
   "source": [
    "# Download the dataset\n",
    "response = requests.get(dataset_url, stream=True)\n",
    "if response.status_code == 200:\n",
    "    # Save the dataset to a file\n",
    "    dataset_file = os.path.join(data_path, \"datasets.zip\")\n",
    "    with open(dataset_file, \"wb\") as f:\n",
    "        for chunk in response.iter_content(chunk_size=1024):\n",
    "            if chunk:\n",
    "                f.write(chunk)\n",
    "\n",
    "    # Extract the dataset\n",
    "    with zipfile.ZipFile(dataset_file, \"r\") as zip_ref:\n",
    "        with tqdm(total=len(zip_ref.infolist()), unit='files', desc='Extracting dataset') as pbar:\n",
    "            zip_ref.extractall(data_path)\n",
    "            pbar.update(len(zip_ref.infolist()))\n",
    "\n",
    "    # Delete the zip file\n",
    "    os.remove(dataset_file)\n",
    "\n",
    "    print(\"Dataset downloaded and extracted successfully!\")\n",
    "else:\n",
    "    print(\"Failed to download the dataset. Status code:\", response.status_code)"
   ]
  }
 ],
 "metadata": {
  "kernelspec": {
   "display_name": ".venv",
   "language": "python",
   "name": "python3"
  },
  "language_info": {
   "codemirror_mode": {
    "name": "ipython",
    "version": 3
   },
   "file_extension": ".py",
   "mimetype": "text/x-python",
   "name": "python",
   "nbconvert_exporter": "python",
   "pygments_lexer": "ipython3",
   "version": "3.10.12"
  }
 },
 "nbformat": 4,
 "nbformat_minor": 2
}
