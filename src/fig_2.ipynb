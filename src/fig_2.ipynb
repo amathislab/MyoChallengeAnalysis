{
 "cells": [
  {
   "cell_type": "markdown",
   "metadata": {},
   "source": [
    "# Generate the plots for Fig. 2"
   ]
  },
  {
   "cell_type": "code",
   "execution_count": null,
   "metadata": {},
   "outputs": [],
   "source": [
    "import pandas as pd\n",
    "import numpy as np\n",
    "import matplotlib.pyplot as plt\n",
    "from matplotlib.cm import get_cmap\n",
    "import seaborn as sns\n",
    "import os\n",
    "from definitions import ROOT_DIR, NUM_MUSCLES, NUM_JOINTS\n",
    "from sklearn.decomposition import PCA\n",
    "from sklearn.preprocessing import MinMaxScaler\n"
   ]
  },
  {
   "cell_type": "markdown",
   "metadata": {},
   "source": [
    "## Load the dataset Baoding-SV"
   ]
  },
  {
   "cell_type": "code",
   "execution_count": null,
   "metadata": {},
   "outputs": [],
   "source": [
    "baoding_df = pd.read_hdf(os.path.join(ROOT_DIR, \"data\", \"datasets\", \"baoding_sv_no_activity.h5\"))"
   ]
  },
  {
   "cell_type": "markdown",
   "metadata": {},
   "source": [
    "## Plot the joint angles, muscle activations and ball position of one episode"
   ]
  },
  {
   "cell_type": "code",
   "execution_count": null,
   "metadata": {},
   "outputs": [],
   "source": [
    "\n",
    " #Extract data from a single episode\n",
    "episode_id = 100\n",
    "\n",
    "episode_df = baoding_df[(baoding_df.episode == episode_id) & (baoding_df.task == \"cw\")]\n",
    "observations = np.vstack(episode_df.observation)\n",
    "joint_pos = observations[:, :23]\n",
    "ball1_pos = observations[:, 23:26] * 100\n",
    "ball2_pos = observations[:, 29:32] * 100\n",
    "target1_pos = observations[:, 35:38] * 100\n",
    "target2_pos = observations[:, 38:41] * 100\n",
    "\n",
    "target1_center = np.mean(target1_pos, axis=0)\n",
    "target2_center = np.mean(target2_pos, axis=0)\n",
    "\n",
    "ball1_rel_pos = ball1_pos - target1_center\n",
    "ball2_rel_pos = ball2_pos - target2_center\n",
    "\n",
    "ball1_angle = np.arctan2(ball1_rel_pos[:, 1], ball1_rel_pos[:, 0]) / np.pi * 180\n",
    "ball2_angle = np.arctan2(ball2_rel_pos[:, 1], ball2_rel_pos[:, 0]) / np.pi * 180\n",
    "muscle_act = np.vstack(episode_df.muscle_act)"
   ]
  },
  {
   "cell_type": "code",
   "execution_count": null,
   "metadata": {},
   "outputs": [],
   "source": [
    "# Plot the joint angles\n",
    "cmap = get_cmap(\"plasma\")\n",
    "fig, ax = plt.subplots(figsize=(10, 1.5))\n",
    "\n",
    "for joint_idx, joint_pose in enumerate(joint_pos.T):\n",
    "    color = cmap((joint_idx + 1) / (joint_pos.shape[1] + 2))\n",
    "    ax.plot(joint_pose, color=color, alpha=0.5)\n",
    "\n",
    "ax.xaxis.set_ticks([])\n",
    "ax.set_ylabel(\"Angle [rad]\")\n",
    "plt.savefig(os.path.join(ROOT_DIR, \"data\", \"figures\", \"fig_2\", f\"joint_pos_episode_{episode_id}.png\"), format=\"png\", dpi=800, bbox_inches=\"tight\")\n",
    "fig.show()"
   ]
  },
  {
   "cell_type": "code",
   "execution_count": null,
   "metadata": {},
   "outputs": [],
   "source": [
    "# Plot the muscle activations\n",
    "cmap = get_cmap(\"plasma\")\n",
    "fig, ax = plt.subplots(figsize=(10, 1.5))\n",
    "\n",
    "for muscle_idx, act in enumerate(muscle_act.T):\n",
    "    color = cmap((muscle_idx + 1) / (muscle_act.shape[1] + 2))\n",
    "    ax.plot(act, color=color, alpha=0.3)\n",
    "\n",
    "ax.xaxis.set_ticks([])\n",
    "ax.set_ylabel(\"Muslce activation\")\n",
    "ax.set_yticks([0, 0.5, 1])\n",
    "ax.set_ylim([-0.1, 1.1])\n",
    "# ax.legend(bbox_to_anchor=(1.15, 1.11))\n",
    "plt.savefig(os.path.join(ROOT_DIR, \"data\", \"figures\", \"fig_2\", f\"muscle_act_episode_{episode_id}.png\"), format=\"png\", dpi=800, bbox_inches=\"tight\")\n",
    "fig.show()"
   ]
  },
  {
   "cell_type": "code",
   "execution_count": null,
   "metadata": {},
   "outputs": [],
   "source": [
    "# Plot the ball position\n",
    "cmap = get_cmap(\"coolwarm\")\n",
    "fig, ax = plt.subplots(figsize=(10, 1.5))\n",
    "\n",
    "ax.plot(ball1_rel_pos[:, 0], label=\"x ball 1\", color=cmap(0.))\n",
    "ax.plot(ball1_rel_pos[:, 1], label=\"y ball 1\", color=cmap(0.15))\n",
    "ax.plot(ball1_rel_pos[:, 2], label=\"z ball 1\", color=cmap(0.3))\n",
    "\n",
    "ax.plot(ball2_rel_pos[:, 0], label=\"x ball 2\", color=cmap(0.99))\n",
    "ax.plot(ball2_rel_pos[:, 1], label=\"y ball 2\", color=cmap(0.85))\n",
    "ax.plot(ball2_rel_pos[:, 2], label=\"z ball 2\", color=cmap(0.7))\n",
    "\n",
    "ax.xaxis.set_ticks([])\n",
    "ax.set_ylabel(\"Position [cm]\")\n",
    "ax.legend(bbox_to_anchor=(1.15, 1.11))\n",
    "plt.savefig(os.path.join(ROOT_DIR, \"data\", \"figures\", \"fig_2\", f\"ball_coords_episode_{episode_id}.png\"), format=\"png\", dpi=800, bbox_inches=\"tight\")\n",
    "fig.show()"
   ]
  },
  {
   "cell_type": "markdown",
   "metadata": {},
   "source": [
    "## Plot the time series of the average PCA of the muscle activations and of the joint pose"
   ]
  },
  {
   "cell_type": "code",
   "execution_count": null,
   "metadata": {},
   "outputs": [],
   "source": [
    "t_min = 1; t_max = 200  # Remove the first step\n",
    "num_components_plot = 10\n",
    "\n",
    "# Extract the actions from the cw rotation dataset and compute pca\n",
    "rollouts_cw = baoding_df[baoding_df.task == \"cw\"]\n",
    "actions = np.vstack(rollouts_cw[\"action\"])\n",
    "pca = PCA(n_components=NUM_MUSCLES)\n",
    "pca.fit(actions)\n",
    "\n",
    "# Compute the average action and project it to the pca space\n",
    "mean_actions = np.vstack(rollouts_cw.groupby(\"step\")[\"action\"].mean())\n",
    "mean_weights = pca.transform(mean_actions)\n",
    "\n",
    "# Rescale the importance between -1 and 1\n",
    "minmax = MinMaxScaler(feature_range=(-1,1))\n",
    "weights=[]\n",
    "for j in range(num_components_plot):\n",
    "    norm_weights = minmax.fit_transform(mean_weights[t_min:,j].reshape(t_max-t_min,1))\n",
    "    weights.append(norm_weights)\n",
    "\n",
    "# Plot the importance of the principal actions\n",
    "fig, ax = plt.subplots(figsize=(20, 2.8)) \n",
    "sns.heatmap(pd.DataFrame(np.squeeze(weights)), cmap=\"coolwarm\", ax=ax)\n",
    "plt.yticks(ticks=np.arange(1,num_components_plot + 1,1)-0.5,labels=np.arange(1,num_components_plot + 1,1),rotation=0,fontsize=16)\n",
    "plt.xticks(rotation=45,ticks=np.linspace(t_min-1, t_max-1, 6),labels=np.linspace(t_min//40, t_max//40, 6),fontsize=16)\n",
    "plt.xlabel('Time [s]',fontsize=21)\n",
    "plt.ylabel('Principal\\nactions',fontsize=21)\n",
    "plt.subplots_adjust(left=0.15,bottom=0.2)\n",
    "plt.savefig(os.path.join(ROOT_DIR, \"data\", \"figures\", \"fig_2\", f\"top_{num_components_plot}_principal_components_action.png\"), format=\"png\", dpi=600, bbox_inches=\"tight\")\n",
    "plt.show()"
   ]
  },
  {
   "cell_type": "code",
   "execution_count": null,
   "metadata": {},
   "outputs": [],
   "source": [
    "t_min = 1; t_max = 200  # Remove the first step\n",
    "num_components_plot = 10\n",
    "\n",
    "# Extract the actions from the cw rotation dataset and compute pca\n",
    "rollouts_cw = baoding_df[baoding_df.task == \"cw\"]\n",
    "poses = np.vstack(rollouts_cw[\"observation\"])[:, :23]\n",
    "pca = PCA(n_components=NUM_JOINTS)\n",
    "pca.fit(poses)\n",
    "\n",
    "# Compute the average action and project it to the pca space\n",
    "mean_poses = np.vstack(rollouts_cw.groupby(\"step\")[\"observation\"].mean())[:, :23]\n",
    "mean_weights = pca.transform(mean_poses)\n",
    "\n",
    "# Rescale the importance between -1 and 1\n",
    "minmax = MinMaxScaler(feature_range=(-1,1))\n",
    "weights=[]\n",
    "for j in range(num_components_plot):\n",
    "    norm_weights = minmax.fit_transform(mean_weights[t_min:,j].reshape(t_max-t_min,1))\n",
    "    weights.append(norm_weights)\n",
    "\n",
    "# Plot the importance of the principal actions\n",
    "fig, ax = plt.subplots(figsize=(20, 2.8)) \n",
    "sns.heatmap(pd.DataFrame(np.squeeze(weights)), cmap=\"coolwarm\", ax=ax)\n",
    "plt.yticks(ticks=np.arange(1,num_components_plot + 1,1)-0.5,labels=np.arange(1,num_components_plot + 1,1),rotation=0,fontsize=16)\n",
    "plt.xticks(rotation=45,ticks=np.linspace(t_min-1, t_max-1, 6),labels=np.linspace(t_min//40, t_max//40, 6),fontsize=16)\n",
    "plt.xlabel('Time [s]',fontsize=21)\n",
    "plt.ylabel('Principal\\nactions',fontsize=21)\n",
    "plt.subplots_adjust(left=0.15,bottom=0.2)\n",
    "plt.savefig(os.path.join(ROOT_DIR, \"data\", \"figures\", \"fig_2\", f\"top_{num_components_plot}_principal_components_pose.png\"), format=\"png\", dpi=600, bbox_inches=\"tight\")\n",
    "plt.show()"
   ]
  }
 ],
 "metadata": {
  "kernelspec": {
   "display_name": "myochallenge",
   "language": "python",
   "name": "python3"
  },
  "language_info": {
   "codemirror_mode": {
    "name": "ipython",
    "version": 3
   },
   "file_extension": ".py",
   "mimetype": "text/x-python",
   "name": "python",
   "nbconvert_exporter": "python",
   "pygments_lexer": "ipython3",
   "version": "3.9.0"
  }
 },
 "nbformat": 4,
 "nbformat_minor": 2
}
