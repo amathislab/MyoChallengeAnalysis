{
 "cells": [
  {
   "attachments": {},
   "cell_type": "markdown",
   "metadata": {},
   "source": [
    "## Analysis of high- and low-variance PCs in velocity space during rotation (panel B)"
   ]
  },
  {
   "cell_type": "code",
   "execution_count": null,
   "metadata": {},
   "outputs": [],
   "source": [
    "from definitions import ROOT_DIR\n",
    "import os\n",
    "import numpy as np\n",
    "from sklearn.decomposition import PCA\n",
    "import matplotlib.pyplot as plt\n",
    "import matplotlib\n",
    "from functions_notebook import make_parallel_envs,set_config,cross_project_kin,plot_cross_projection,mean_ratio\n",
    "import pickle\n",
    "from sklearn.discriminant_analysis import LinearDiscriminantAnalysis as LDA\n",
    "from sklearn.model_selection import train_test_split\n",
    "from stable_baselines3.common.vec_env import VecNormalize\n",
    "from sb3_contrib import RecurrentPPO\n",
    "from envs.environment_factory import EnvironmentFactory\n",
    "import pandas as pd\n",
    "from sklearn.linear_model import LogisticRegression\n",
    "from sklearn.model_selection import KFold, cross_val_score"
   ]
  },
  {
   "cell_type": "markdown",
   "metadata": {},
   "source": [
    "## Load the rollouts"
   ]
  },
  {
   "cell_type": "code",
   "execution_count": null,
   "metadata": {},
   "outputs": [],
   "source": [
    "cw_path = os.path.join(ROOT_DIR, \"data\", \"rollouts\", \"final_model_500_episodes_activations_info_small_variations_cw\", \"data.hdf\")\n",
    "rollouts_cw = pd.read_hdf(cw_path)\n",
    "ccw_path = os.path.join(ROOT_DIR, \"data\", \"rollouts\", \"final_model_500_episodes_activations_info_small_variations_ccw\", \"data.hdf\")\n",
    "rollouts_ccw = pd.read_hdf(ccw_path)\n",
    "rollouts_df = pd.concat((rollouts_cw, rollouts_ccw)).reset_index()"
   ]
  },
  {
   "cell_type": "code",
   "execution_count": null,
   "metadata": {},
   "outputs": [],
   "source": [
    "def average_by_timestep(vec, timesteps):\n",
    "    out_vec = []\n",
    "    for ts in sorted(np.unique(timesteps)):\n",
    "        out_vec.append(np.mean(vec[timesteps == ts], axis=0))\n",
    "    return np.vstack(out_vec)"
   ]
  },
  {
   "cell_type": "code",
   "execution_count": null,
   "metadata": {},
   "outputs": [],
   "source": [
    "def measure_tangling(data):\n",
    "    derivative = np.gradient(data,axis=0) * 40  # sample frequency\n",
    "\n",
    "    # epsilon = 0.1*np.mean(np.linalg.norm(data,axis=1))\n",
    "    epsilon = 1e-10 # * np.mean(np.linalg.norm(data, axis=1))\n",
    "    # epsilon = 1e-1\n",
    "\n",
    "    Q_all = []\n",
    "    for t in range(derivative.shape[0]):\n",
    "        Q = (np.linalg.norm(derivative[t] - derivative, axis=1)**2) / (epsilon + np.linalg.norm(data[t] - data, axis=1)**2)\n",
    "        Q = np.max(Q)\n",
    "        Q_all.append(Q)\n",
    "    \n",
    "    return np.mean(Q_all)  # as per definition"
   ]
  },
  {
   "cell_type": "code",
   "execution_count": null,
   "metadata": {},
   "outputs": [],
   "source": [
    "# PCA plots of different component ranges\n",
    "num_muscles = 39\n",
    "num_joints = 23\n",
    "muscle_act = np.vstack(rollouts_df.muscle_act)\n",
    "pos = np.vstack(rollouts_df.observation)[:, :num_joints]\n",
    "\n",
    "pos_pc_range_list = [(0, 3), (5, 8), (12, 15), (20, 23)]\n",
    "muscle_act_pc_range_list = [(0, 3), (23, 26), (36, 39)]\n",
    "cmap_list = [\"Reds\", \"Blues\"]\n",
    "dir_list = [\"cw\", \"ccw\"]\n",
    "label_list = [\"Clockwise\", \"Counter-clockwise\"]\n",
    "data_name_list = [\"joint_pos\", \"muscle_act\"]\n",
    "\n",
    "for data, pc_range_list, data_name in zip([pos, muscle_act], [pos_pc_range_list, muscle_act_pc_range_list], data_name_list):\n",
    "    pca = PCA(n_components=data.shape[1])\n",
    "    out = pca.fit_transform(data)\n",
    "\n",
    "    for pc_range in pc_range_list:\n",
    "        fig = plt.figure(figsize=(4, 4))\n",
    "        ax = fig.add_subplot(projection=\"3d\")\n",
    "\n",
    "        tangling_list = []\n",
    "        for cmap_name, direction, label in zip(cmap_list, dir_list, label_list):\n",
    "            out_direction = out[rollouts_df.task == direction]\n",
    "            cmap = matplotlib.colormaps[cmap_name]\n",
    "            color_list = [cmap(i) for i in np.linspace(0.5, 1, 200)]    \n",
    "            colors = [color_list[idx] for idx in rollouts_df.step[rollouts_df.task == direction]]\n",
    "            plot_mat = out_direction[:, pc_range[0]:pc_range[1]]\n",
    "            mean_traj = average_by_timestep(plot_mat, rollouts_df.step[rollouts_df.task == direction])\n",
    "            tangling_list.append(measure_tangling(mean_traj))\n",
    "            ax.scatter(mean_traj[:, 0], mean_traj[:, 1], mean_traj[:, 2], c=color_list, label=label)\n",
    "        print(data_name, \"PCs:\", pc_range, \"Tangling:\", np.mean(tangling_list))\n",
    "\n",
    "        ax.xaxis.set_pane_color((1.0, 1.0, 1.0, 0.0))\n",
    "        ax.yaxis.set_pane_color((1.0, 1.0, 1.0, 0.0))\n",
    "        ax.zaxis.set_pane_color((1.0, 1.0, 1.0, 0.0))\n",
    "        ax.xaxis._axinfo[\"grid\"]['color'] =  (1,1,1,0)\n",
    "        ax.yaxis._axinfo[\"grid\"]['color'] =  (1,1,1,0)\n",
    "        ax.zaxis._axinfo[\"grid\"]['color'] =  (1,1,1,0)\n",
    "        ax.view_init(30, 45)\n",
    "        ax.set_xlabel(f\"\\n\\nPC {pc_range[0] + 1}\", fontsize=12)\n",
    "        ax.set_ylabel(f\"\\n\\nPC {pc_range[0] + 2}\", fontsize=12)\n",
    "        ax.set_zlabel(f\"\\n\\nPC {pc_range[0] + 3}\", fontsize=12)\n",
    "        ax.set_box_aspect(aspect=None, zoom=0.7)\n",
    "        ax.ticklabel_format(style=\"sci\", scilimits=(-2, 2))\n",
    "        ax.locator_params(axis='both', nbins=4)\n",
    "        ax.tick_params(axis='both', which='major', labelsize=12)\n",
    "        ax.tick_params(axis='both', which='minor', labelsize=10)\n",
    "        # ax.legend()\n",
    "        out_name = f\"pca_{data_name}_components_{'_'.join(str(el) for el in pc_range)}.png\"\n",
    "        fig.savefig(os.path.join(ROOT_DIR, \"data\", \"figures\", \"panel_2\", out_name), format=\"png\", dpi=800, bbox_inches=\"tight\")\n",
    "        fig.show()"
   ]
  },
  {
   "cell_type": "code",
   "execution_count": null,
   "metadata": {},
   "outputs": [],
   "source": [
    "# Task decoding from the pca trajectories\n",
    "num_muscles = 39\n",
    "num_joints = 23\n",
    "num_episodes_per_direction = 500\n",
    "max_episode_len = 200\n",
    "muscle_act = np.vstack(rollouts_df.muscle_act)\n",
    "pos = np.vstack(rollouts_df.observation)[:, :num_joints]\n",
    "\n",
    "pos_pc_range_list = [(0, 3), (5, 8), (12, 15), (20, 23)]\n",
    "pos_pc_range_span = 3\n",
    "muscle_act_pc_range_list = [(0, 3), (23, 26), (36, 39)]\n",
    "dir_list = [\"cw\", \"ccw\"]\n",
    "data_name_list = [\"joint_pos\", \"muscle_act\"]\n",
    "\n",
    "for data, pc_range_list, data_name in zip([pos, muscle_act], [pos_pc_range_list, muscle_act_pc_range_list], data_name_list):\n",
    "    pca = PCA(n_components=data.shape[1])\n",
    "    out = pca.fit_transform(data)\n",
    "\n",
    "    for pc_range in pc_range_list:\n",
    "        X = np.empty((num_episodes_per_direction * len(dir_list), max_episode_len * pos_pc_range_span))\n",
    "        y = np.empty(num_episodes_per_direction * len(dir_list))\n",
    "        for dir_idx, dir in enumerate(dir_list):\n",
    "            for ep_id in range(num_episodes_per_direction):\n",
    "                step_idx_mask = (rollouts_df.episode == ep_id) & (rollouts_df.task == dir)\n",
    "                row = out[step_idx_mask, pc_range[0]: pc_range[1]].flatten()\n",
    "                X[ep_id + dir_idx * num_episodes_per_direction, : len(row)] = row\n",
    "                y[ep_id + dir_idx * num_episodes_per_direction] = dir_idx\n",
    "        X = X[:, ~np.all(X[1:] == X[:-1], axis=0)]  # drop constant columns\n",
    "        \n",
    "        classification = LogisticRegression()\n",
    "        cv = KFold(n_splits=5, shuffle=True, random_state=42)\n",
    "        cv_score = cross_val_score(classification, X, y, cv=cv)\n",
    "\n",
    "        print(data_name, \", PC range:\", pc_range, \", score:\", cv_score, \", avg score:\", np.mean(cv_score))"
   ]
  }
 ],
 "metadata": {
  "kernelspec": {
   "display_name": "Python 3 (ipykernel)",
   "language": "python",
   "name": "python3"
  },
  "language_info": {
   "codemirror_mode": {
    "name": "ipython",
    "version": 3
   },
   "file_extension": ".py",
   "mimetype": "text/x-python",
   "name": "python",
   "nbconvert_exporter": "python",
   "pygments_lexer": "ipython3",
   "version": "3.9.0"
  }
 },
 "nbformat": 4,
 "nbformat_minor": 4
}
