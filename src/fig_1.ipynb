{
 "cells": [
  {
   "cell_type": "markdown",
   "metadata": {},
   "source": [
    "# Generate the plots for Fig. 1"
   ]
  },
  {
   "cell_type": "code",
   "execution_count": null,
   "metadata": {},
   "outputs": [],
   "source": [
    "import os\n",
    "import matplotlib.pyplot as plt\n",
    "import numpy as np\n",
    "from definitions import ROOT_DIR\n",
    "from helpers import get_data_from_tb_log, butter_lowpass_filter"
   ]
  },
  {
   "cell_type": "code",
   "execution_count": null,
   "metadata": {},
   "outputs": [],
   "source": [
    "EXPERIMENTS_DIR = os.path.join(ROOT_DIR, \"trained_models\", \"curriculum_steps_complete_baoding_winner\")\n",
    "attributes = (\"rollout/ep_rew_mean\", \"eval/score\")\n",
    "tb_dir_name = \"RecurrentPPO_1\""
   ]
  },
  {
   "cell_type": "markdown",
   "metadata": {},
   "source": [
    "## Load and plot the learning curves"
   ]
  },
  {
   "cell_type": "code",
   "execution_count": null,
   "metadata": {},
   "outputs": [],
   "source": [
    "curriculum_steps = sorted(os.listdir(EXPERIMENTS_DIR))\n",
    "curriculum_data_dict = {a: [] for a in attributes}  # {attribute: [{step: val, time: val, value: val}]}\n",
    "\n",
    "for experiment in curriculum_steps:\n",
    "    experiment_dir = os.path.join(EXPERIMENTS_DIR, experiment)\n",
    "    print(f\"'{experiment_dir}'\")\n",
    "    tb_dir_path = os.path.join(experiment_dir, tb_dir_name)\n",
    "\n",
    "    if os.path.isdir(tb_dir_path):\n",
    "        folder_content = os.listdir(tb_dir_path)\n",
    "        assert len(folder_content) == 1\n",
    "        tb_file_name = folder_content[0]\n",
    "        tb_file_path = os.path.join(tb_dir_path, tb_file_name)\n",
    "        time_dict = get_data_from_tb_log(tb_file_path, attributes, x=\"wall_time\")\n",
    "        step_dict = get_data_from_tb_log(tb_file_path, attributes, x=\"step\")\n",
    "        for attr, values in step_dict.items():\n",
    "            if values is None:\n",
    "                curriculum_data_dict[attr].append({\"step\": np.array([]), \"time\": np.array([]), \"value\": np.array([])})\n",
    "            else:\n",
    "                time_vec = time_dict[attr][0]  # The x of the time data\n",
    "                time_vec = (time_vec - time_vec[0]) / 3.6e3  # Train time in hours (relative)\n",
    "                curriculum_data_dict[attr].append({\"step\": values[0], \"time\": time_vec, \"value\": values[1]})"
   ]
  },
  {
   "cell_type": "code",
   "execution_count": null,
   "metadata": {},
   "outputs": [],
   "source": [
    "attr = \"rollout/ep_rew_mean\"\n",
    "data = curriculum_data_dict[attr]\n",
    "line_colors = plt.cm.plasma(np.linspace(0, 0.8, len(data)))\n",
    "fig, ax1 = plt.subplots(figsize=(10, 2))\n",
    "last_step = 0\n",
    "last_time = 0\n",
    "time_vec_list = []\n",
    "step_vec_list = []\n",
    "for idx, c_step in enumerate(data):\n",
    "    x = (c_step[\"step\"] * 1e-6 + last_step)\n",
    "    y = c_step[\"value\"]\n",
    "    if len(c_step[\"step\"]) > 0:\n",
    "        if len(y) > 51:\n",
    "            fs = len(x) / (x[-1] - x[0])\n",
    "            y = butter_lowpass_filter(y, cutoff=5, fs=fs, order=1)\n",
    "        ax1.plot(x, y, color=line_colors[idx])\n",
    "        last_step = x[-1]\n",
    "        time = c_step[\"time\"] + last_time\n",
    "        last_time = time[-1]\n",
    "        step_vec_list.append(x)\n",
    "        time_vec_list.append(time)\n",
    "        \n",
    "step = np.concatenate(step_vec_list) \n",
    "time = np.concatenate(time_vec_list).astype(int)\n",
    "color = 'tab:red'\n",
    "ax1.set_xlabel('Millions of steps', color=color)\n",
    "ax1.set_ylabel('Episode reward')\n",
    "ax1.tick_params(axis='y')\n",
    "ax1.grid(True, color=color, alpha=0.6)\n",
    "ax1.tick_params(axis='x', labelcolor=color)\n",
    "\n",
    "\n",
    "ax2 = ax1.twiny()  # instantiate a second axes that shares the same y-axis\n",
    "color = 'tab:blue'\n",
    "ax2.set_xlabel('Training Time [hours]', color=color)\n",
    "# ax2.plot(time, value, color=color, marker='o', label='Loss')\n",
    "ax2.tick_params(axis='x', labelcolor=color)\n",
    "\n",
    "# Add iteration step as x-ticks on the top axis\n",
    "ax2.set_xticks(np.arange(time[0], time[-1], 100))\n",
    "ax2.set_xticklabels(np.arange(time[0], time[-1], 100))\n",
    "\n",
    "# Customize plot\n",
    "ax2.grid(True, color=color, alpha=0.6)\n",
    "fig.tight_layout()  # ensure that all the labels fit comfortably\n",
    "attr_print = attr.replace(\"/\", \"_\")\n",
    "out_name = f\"learning_curve_curriculum_{attr_print}\"\n",
    "fig.savefig(os.path.join(ROOT_DIR, \"data\", \"figures\", \"fig_1\", out_name + \".png\"), format=\"png\", dpi=800, bbox_inches=\"tight\")    \n",
    "plt.show()\n"
   ]
  }
 ],
 "metadata": {
  "kernelspec": {
   "display_name": "myochallenge",
   "language": "python",
   "name": "python3"
  },
  "language_info": {
   "codemirror_mode": {
    "name": "ipython",
    "version": 3
   },
   "file_extension": ".py",
   "mimetype": "text/x-python",
   "name": "python",
   "nbconvert_exporter": "python",
   "pygments_lexer": "ipython3",
   "version": "3.9.0"
  }
 },
 "nbformat": 4,
 "nbformat_minor": 2
}
