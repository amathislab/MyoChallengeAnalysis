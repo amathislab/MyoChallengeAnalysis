{
 "cells": [
  {
   "cell_type": "markdown",
   "metadata": {},
   "source": [
    "# Generate plots for figure 5"
   ]
  },
  {
   "cell_type": "code",
   "execution_count": null,
   "metadata": {},
   "outputs": [],
   "source": [
    "import pandas as pd\n",
    "import numpy as np\n",
    "import os\n",
    "import matplotlib.pyplot as plt\n",
    "import joblib\n",
    "import pickle\n",
    "from definitions import ROOT_DIR, TASK_TO_PRINT, NUM_MUSCLES, NUM_JOINTS\n",
    "from helpers import get_pos_vel_act, plot_explained_variance_ratio, ev\n",
    "from sklearn.decomposition import PCA"
   ]
  },
  {
   "cell_type": "markdown",
   "metadata": {},
   "source": [
    "## Load the datasets for all tasks"
   ]
  },
  {
   "cell_type": "code",
   "execution_count": null,
   "metadata": {},
   "outputs": [],
   "source": [
    "task_df_dict = {\n",
    "    \"baoding\": \"baoding_sv_no_activity.h5\",\n",
    "    \"early_baoding\": \"baoding_step_12_no_activity.h5\",\n",
    "    \"hand_pose\": \"hand_pose.h5\",\n",
    "    \"hand_reach\": \"hand_reach.h5\",\n",
    "    \"reorient\": \"reorient.h5\",\n",
    "    \"pen\": \"pen.h5\"\n",
    "}\n",
    "\n",
    "data_dir = os.path.join(ROOT_DIR, \"data\")\n",
    "df_dict = {\n",
    "    key: pd.read_hdf(os.path.join(data_dir, \"datasets\", value))\n",
    "    for key, value in task_df_dict.items()\n",
    "}"
   ]
  },
  {
   "cell_type": "code",
   "execution_count": null,
   "metadata": {},
   "outputs": [],
   "source": [
    "task_pos_vel_act_dict = {}\n",
    "for key, value in df_dict.items():\n",
    "    pos, vel, muscle_act = get_pos_vel_act(value)\n",
    "    task_pos_vel_act_dict[key] = {\"pos\": pos, \"vel\": vel, \"muscle_act\": muscle_act}"
   ]
  },
  {
   "cell_type": "markdown",
   "metadata": {},
   "source": [
    "## Load the PCAs and project the poses and muscle activations onto them"
   ]
  },
  {
   "cell_type": "code",
   "execution_count": null,
   "metadata": {},
   "outputs": [],
   "source": [
    "task_list = [\"baoding\", \"early_baoding\"]\n",
    "task_colors = {\n",
    "    \"baoding\": \"dodgerblue\",\n",
    "    \"early_baoding\": \"blue\",\n",
    "    \"pen\": \"blueviolet\",\n",
    "    \"reorient\": \"violet\",\n",
    "    \"hand_reach\": \"orange\",\n",
    "    \"hand_pose\": \"red\",\n",
    "}\n",
    "\n",
    "label_dict = {\n",
    "    \"best_to_worst\": \"High to low EV\",\n",
    "    \"worst_to_best\": \"Low to high EV\",\n",
    "}\n",
    "target_task_list = [\"baoding\", \"early_baoding\", \"hand_pose\", \"hand_reach\", \"pen\", \"reorient\"]"
   ]
  },
  {
   "cell_type": "code",
   "execution_count": null,
   "metadata": {},
   "outputs": [],
   "source": [
    "# Load the precomputed PCAs or compute them from scratch\n",
    "load_pca = True\n",
    "pca_dict = {}\n",
    "for task in task_pos_vel_act_dict.keys():\n",
    "    if load_pca:\n",
    "        pca = joblib.load(os.path.join(ROOT_DIR, \"data\", \"pca\", f\"pca_muscle_act_{task}.joblib\"))\n",
    "    else:\n",
    "        pos_vel_act_dict = task_pos_vel_act_dict[task]\n",
    "        muscle_act = pos_vel_act_dict[\"muscle_act\"]\n",
    "        print(f\"Computing PCA for {task}\")\n",
    "        pca = PCA(n_components=NUM_MUSCLES).fit(muscle_act)\n",
    "    pca_dict[task] = pca\n",
    "\n",
    "# Plot the cumulative variance projected on the different PCA spaces\n",
    "for base_task in task_list:\n",
    "    fig, ax = plt.subplots()\n",
    "    for target_task in TASK_TO_PRINT:\n",
    "        pca = pca_dict[target_task]\n",
    "        muscle_act = task_pos_vel_act_dict[base_task][\"muscle_act\"]\n",
    "        muscle_act_projected = pca.transform(muscle_act)\n",
    "        muscle_act_approx = pca.inverse_transform(muscle_act_projected)\n",
    "        exp_var = ev(muscle_act, muscle_act_approx, pca.mean_)\n",
    "        exp_var_ratio_list = [exp_var]\n",
    "        for i in range(1, NUM_MUSCLES):\n",
    "            muscle_act_projected[:, -i:] = 0\n",
    "            muscle_act_approx = pca.inverse_transform(muscle_act_projected)\n",
    "            exp_var = ev(muscle_act, muscle_act_approx, pca.mean_)\n",
    "            exp_var_ratio_list.append(exp_var)\n",
    "        exp_var_ratio_list.reverse()\n",
    "\n",
    "        plot_explained_variance_ratio(exp_var_ratio_list, task_name=target_task, color=task_colors[target_task], ax=ax, fig=fig)\n",
    "    ax.legend(bbox_to_anchor=(1, 0.9), fontsize=14, ncol=3)\n",
    "    ax.set_xlabel('Number of PCs (muscles)', fontsize=21)\n",
    "    fig.savefig(os.path.join(ROOT_DIR, \"data\", \"figures\", \"fig_5\", f\"cum_var_muscle_act_{base_task}_onto_all.png\"), format=\"png\", dpi=600, bbox_inches=\"tight\")\n",
    "    fig.show()\n"
   ]
  },
  {
   "cell_type": "code",
   "execution_count": null,
   "metadata": {},
   "outputs": [],
   "source": [
    "# Load the precomputed PCAs or compute them from scratch\n",
    "load_pca = True\n",
    "pca_dict = {}\n",
    "for task in task_pos_vel_act_dict.keys():\n",
    "    if load_pca:\n",
    "        pca = joblib.load(os.path.join(ROOT_DIR, \"data\", \"pca\", f\"pca_pos_{task}.joblib\"))\n",
    "    else:\n",
    "        pos_vel_act_dict = task_pos_vel_act_dict[task]\n",
    "        pos = pos_vel_act_dict[\"pos\"]\n",
    "        print(f\"Computing PCA for {task}\")\n",
    "        pca = PCA(n_components=NUM_JOINTS).fit(pos)\n",
    "    pca_dict[task] = pca\n",
    "    \n",
    "# Plot the cumulative variance projected on the different PCA spaces\n",
    "for base_task in task_list:\n",
    "    fig, ax = plt.subplots()\n",
    "    # ax.set_title(f\"Explained variance ratio for {task_to_print_dict[base_task]}\", fontsize=21)\n",
    "    for target_task in TASK_TO_PRINT:\n",
    "        pca = pca_dict[target_task]\n",
    "        pos = task_pos_vel_act_dict[base_task][\"pos\"]\n",
    "        pos_projected = pca.transform(pos)\n",
    "        pos_approx = pca.inverse_transform(pos_projected)\n",
    "        exp_var = ev(pos, pos_approx, pca.mean_)\n",
    "        exp_var_ratio_list = [exp_var]\n",
    "        for i in range(1, NUM_JOINTS):\n",
    "            pos_projected[:, -i:] = 0\n",
    "            pos_approx = pca.inverse_transform(pos_projected)\n",
    "            exp_var = ev(pos, pos_approx, pca.mean_)\n",
    "            exp_var_ratio_list.append(exp_var)\n",
    "        exp_var_ratio_list.reverse()\n",
    "\n",
    "        plot_explained_variance_ratio(exp_var_ratio_list, task_name=target_task, color=task_colors[target_task], ax=ax, fig=fig)\n",
    "    plt.xlabel('Number of PCs (joints)', fontsize=21)\n",
    "    fig.savefig(os.path.join(ROOT_DIR, \"data\", \"figures\", \"fig_5\", f\"cum_var_pos_{base_task}_onto_all.png\"), format=\"png\", dpi=600, bbox_inches=\"tight\")\n",
    "    fig.show()"
   ]
  },
  {
   "cell_type": "markdown",
   "metadata": {},
   "source": [
    "## Load the performance decay data (without recomputing them) and make the plots"
   ]
  },
  {
   "cell_type": "code",
   "execution_count": null,
   "metadata": {},
   "outputs": [],
   "source": [
    "# Load the precomputed performance datasets\n",
    "task_perf_dict = {}\n",
    "for target_task in target_task_list:\n",
    "    perf_path = os.path.join(ROOT_DIR, \"data\", \"performance_decay\", f\"performance_action_components_{target_task}_best_to_worst.pkl\")\n",
    "    perf = pickle.load(open(perf_path,'rb'))\n",
    "    task_perf_dict[target_task] = perf\n",
    "    \n",
    "fig, ax = plt.subplots()\n",
    "for task, performance_components in task_perf_dict.items():\n",
    "    color = task_colors[task]\n",
    "    # We insert a 0 because the performance with 0 PCs is 0\n",
    "    perfs_mean = np.array([0] + [d['solved_frac_mean'] for d in performance_components[::-1]])\n",
    "    perfs_sem = np.array([0] + [d['solved_frac_sem'] for d in performance_components[::-1]])\n",
    "    ax.errorbar(np.arange(NUM_MUSCLES + 1), perfs_mean, yerr=perfs_sem, fmt='-', label=TASK_TO_PRINT[task], color=color)\n",
    "    \n",
    "ax.set_xlabel('Number of PCs (muscles)',fontsize=19,labelpad=5)\n",
    "ax.set_ylabel('Solved fraction',fontsize=19,labelpad=5)\n",
    "ax.tick_params(axis=\"both\", labelsize=19)\n",
    "ax.set_xticks(np.arange(0, 41, 10))\n",
    "ax.set_xlim((-1, 41))\n",
    "fig.savefig(os.path.join(ROOT_DIR, \"data\", \"figures\", \"fig_5\", \"pca_performance_contrib.png\"), format=\"png\", dpi=600, bbox_inches=\"tight\")\n",
    "fig.show()"
   ]
  },
  {
   "cell_type": "code",
   "execution_count": null,
   "metadata": {},
   "outputs": [],
   "source": [
    "# Load the precomputed performance datasets\n",
    "task_perf_dict = {}\n",
    "for target_task in target_task_list:\n",
    "    perf_path = os.path.join(ROOT_DIR, \"data\", \"performance_decay\", f\"performance_step_12_{target_task}_best_to_worst.pkl\")\n",
    "    perf = pickle.load(open(perf_path,'rb'))\n",
    "    task_perf_dict[target_task] = perf\n",
    "    \n",
    "fig, ax = plt.subplots()\n",
    "for task, performance_components in task_perf_dict.items():\n",
    "    color = task_colors[task]\n",
    "    # We insert a 0 because the performance with 0 PCs is 0\n",
    "    perfs_mean = np.array([0] + [d['solved_frac_mean'] for d in performance_components[::-1]])\n",
    "    perfs_sem = np.array([0] + [d['solved_frac_sem'] for d in performance_components[::-1]])\n",
    "    ax.errorbar(np.arange(NUM_MUSCLES + 1), perfs_mean, yerr=perfs_sem, fmt='-', label=TASK_TO_PRINT[task], color=color)\n",
    "    \n",
    "ax.set_xlabel('Number of PCs (muscles)',fontsize=19,labelpad=5)\n",
    "ax.set_ylabel('Solved fraction',fontsize=19,labelpad=5)\n",
    "ax.tick_params(axis=\"both\", labelsize=19)\n",
    "ax.set_xticks(np.arange(0, 41, 10))\n",
    "ax.set_xlim((-1, 41))\n",
    "fig.savefig(os.path.join(ROOT_DIR, \"data\", \"figures\", \"fig_5\", \"pca_performance_contrib_step_12.png\"), format=\"png\", dpi=600, bbox_inches=\"tight\")\n",
    "fig.show()"
   ]
  }
 ],
 "metadata": {
  "kernelspec": {
   "display_name": "myochallenge",
   "language": "python",
   "name": "python3"
  },
  "language_info": {
   "codemirror_mode": {
    "name": "ipython",
    "version": 3
   },
   "file_extension": ".py",
   "mimetype": "text/x-python",
   "name": "python",
   "nbconvert_exporter": "python",
   "pygments_lexer": "ipython3",
   "version": "3.9.0"
  }
 },
 "nbformat": 4,
 "nbformat_minor": 2
}
