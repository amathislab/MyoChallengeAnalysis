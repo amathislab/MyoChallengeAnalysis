{
 "cells": [
  {
   "cell_type": "markdown",
   "metadata": {},
   "source": [
    "# Generate plots for figure 3"
   ]
  },
  {
   "cell_type": "code",
   "execution_count": null,
   "metadata": {},
   "outputs": [],
   "source": [
    "import pandas as pd\n",
    "import os\n",
    "import matplotlib.pyplot as plt\n",
    "import numpy as np\n",
    "import json\n",
    "from definitions import ROOT_DIR\n",
    "from helpers import get_pos_vel_act, get_exp_var_ratio, get_dof_count, plot_explained_variance_ratio"
   ]
  },
  {
   "cell_type": "markdown",
   "metadata": {},
   "source": [
    "## Load the dataset Baoding-SV and Control"
   ]
  },
  {
   "cell_type": "code",
   "execution_count": null,
   "metadata": {},
   "outputs": [],
   "source": [
    "baoding_df = pd.read_hdf(os.path.join(ROOT_DIR, \"data\", \"datasets\", \"baoding_sv_no_activity.h5\"))\n",
    "control_df = pd.read_hdf(os.path.join(ROOT_DIR, \"data\", \"datasets\", \"hand_pose.h5\"))\n",
    "\n",
    "pos_control, vel_control, muscle_act_control = get_pos_vel_act(control_df)\n",
    "pos_baoding, vel_baoding, muscle_act_baoding = get_pos_vel_act(baoding_df)"
   ]
  },
  {
   "cell_type": "markdown",
   "metadata": {},
   "source": [
    "## Compute the pca of the joint angles, joint position and joint velocities and measure the dimensionality"
   ]
  },
  {
   "cell_type": "code",
   "execution_count": null,
   "metadata": {},
   "outputs": [],
   "source": [
    "# PCA of the hand poses for the Control (Hand Pose) and for the task (baoding)\n",
    "num_joints = 23 \n",
    "num_muscles = 39 \n",
    "\n",
    "exp_var_pos_control = get_exp_var_ratio(data=pos_control, n_comp=num_joints)\n",
    "exp_var_pos_baoding = get_exp_var_ratio(data=pos_baoding, n_comp=num_joints)\n",
    "\n",
    "exp_var_vel_control = get_exp_var_ratio(data=vel_control, n_comp=num_joints)\n",
    "exp_var_vel_baoding = get_exp_var_ratio(data=vel_baoding, n_comp=num_joints)\n",
    "\n",
    "exp_var_muscle_control = get_exp_var_ratio(data=muscle_act_control, n_comp=num_muscles)\n",
    "exp_var_muscle_baoding = get_exp_var_ratio(data=muscle_act_baoding, n_comp=num_muscles)\n",
    "\n",
    "exp_var_dict = {\n",
    "    \"pos\": {\n",
    "        \"control\": exp_var_pos_control,\n",
    "        \"baoding\": exp_var_pos_baoding\n",
    "    },\n",
    "    \"vel\": {\n",
    "        \"control\": exp_var_vel_control,\n",
    "        \"baoding\": exp_var_vel_baoding\n",
    "    },\n",
    "    \"muscle_act\": {\n",
    "        \"control\": exp_var_muscle_control,\n",
    "        \"baoding\": exp_var_muscle_baoding\n",
    "    }\n",
    "}"
   ]
  },
  {
   "cell_type": "code",
   "execution_count": null,
   "metadata": {},
   "outputs": [],
   "source": [
    "levels = [0.85, 0.95]\n",
    "dof_count_dict = {}\n",
    "for data_type, task_var_dict in exp_var_dict.items():\n",
    "    dof_per_task_dict = {}\n",
    "    for task, exp_var in task_var_dict.items():\n",
    "        dof_per_level_dict = {}\n",
    "        for l in levels:\n",
    "            dof_count = get_dof_count(exp_var, l)\n",
    "            dof_per_level_dict[l] = dof_count\n",
    "        dof_per_level_dict[\"avg\"] = np.mean(list(dof_per_level_dict.values()))\n",
    "        dof_per_task_dict[task] = dof_per_level_dict\n",
    "    dof_count_dict[data_type] = dof_per_task_dict\n",
    "\n",
    "print(json.dumps(dof_count_dict, indent=4))"
   ]
  },
  {
   "cell_type": "code",
   "execution_count": null,
   "metadata": {},
   "outputs": [],
   "source": [
    "# Extracted from Todorov's paper \n",
    "experimental_dof = {\n",
    "    \"pos\": {\n",
    "        \"control\": {\n",
    "            \"0.85\": 7,\n",
    "            \"0.95\": 10,\n",
    "            \"avg\": 8.5\n",
    "        },\n",
    "        \"baoding\": {\n",
    "            \"0.85\": 3,\n",
    "            \"0.95\": 7,\n",
    "            \"avg\": 5\n",
    "        }\n",
    "    },\n",
    "    \"vel\": {\n",
    "        \"control\": {\n",
    "            \"0.85\": 8,\n",
    "            \"0.95\": 12,\n",
    "            \"avg\": 10\n",
    "        },\n",
    "        \"baoding\": {\n",
    "            \"0.85\": 4,\n",
    "            \"0.95\": 8,\n",
    "            \"avg\": 6\n",
    "        }\n",
    "    }\n",
    "}"
   ]
  },
  {
   "cell_type": "markdown",
   "metadata": {},
   "source": [
    "## Compare the explained variance of Baoding and Control"
   ]
  },
  {
   "cell_type": "code",
   "execution_count": null,
   "metadata": {},
   "outputs": [],
   "source": [
    "fig, ax = plot_explained_variance_ratio(np.cumsum(exp_var_pos_baoding), \"baoding\", \"dodgerblue\", xtext_pos=(18, 0.9), ytext_pos=(18, 0.8), label=\"Baoding\")\n",
    "plot_explained_variance_ratio(np.cumsum(exp_var_pos_control), \"hand_pose\", \"red\", ax=ax, fig=fig, xtext_pos=(18, 0.9), ytext_pos=(18, 0.8), label=\"Control (Hand Pose)\")\n",
    "ax.legend(fontsize=21,loc='best')\n",
    "fig.savefig(os.path.join(ROOT_DIR, \"data\", \"figures\", \"fig_3\", \"pca_pos.png\"), format=\"png\", dpi=600, bbox_inches=\"tight\")\n",
    "fig.show()\n",
    "\n",
    "fig, ax = plot_explained_variance_ratio(np.cumsum(exp_var_muscle_baoding), \"baoding\", \"dodgerblue\", xtext_pos=(30, 0.88), ytext_pos=(30, 0.78), label=\"Baoding\")\n",
    "plot_explained_variance_ratio(np.cumsum(exp_var_muscle_control), \"hand_pose\", \"red\", ax=ax, fig=fig, xtext_pos=(30, 0.88), ytext_pos=(30, 0.78), label=\"Control (Hand Pose)\")\n",
    "ax.legend(fontsize=21,loc='best')\n",
    "fig.savefig(os.path.join(ROOT_DIR, \"data\", \"figures\", \"fig_3\", \"pca_muscle_act.png\"), format=\"png\", dpi=600, bbox_inches=\"tight\")\n",
    "fig.show()"
   ]
  },
  {
   "cell_type": "markdown",
   "metadata": {},
   "source": [
    "## Barplot of the explained variance - Todorov vs our experiments"
   ]
  },
  {
   "cell_type": "code",
   "execution_count": null,
   "metadata": {},
   "outputs": [],
   "source": [
    "n_comp=15\n",
    "exp_var_ratio=exp_var_pos_baoding[:15]\n",
    "title='Joint angles'\n",
    "plt.figure(figsize=(4, 2))\n",
    "plt.bar(range(1,n_comp+1), exp_var_ratio, alpha=0.5, align='center',label='Individual variance', color=\"dodgerblue\")\n",
    "plt.title(title,fontsize=21)\n",
    "plt.yticks(fontsize=21)\n",
    "plt.xticks([])\n",
    "plt.subplots_adjust(left=0.15,bottom=0.15)\n",
    "plt.savefig(os.path.join(ROOT_DIR, \"data\", \"figures\", \"fig_3\", \"cum_var_barplot_sds.png\"), format=\"png\", dpi=800, bbox_inches=\"tight\")\n"
   ]
  },
  {
   "cell_type": "code",
   "execution_count": null,
   "metadata": {},
   "outputs": [],
   "source": [
    "# Values extracted from the graph of Todorov's paper with an online extraction tool\n",
    "exp_var_ratio_todorov = np.array([35.88, 21.80, 11.31, 7.60, 5.24, 4.21, 3.29, 2.47, 2.06, 1.34, 0.92, 0.72, 0.51, 0.41, 0.30]) * 1e-2\n",
    "n_comp=15\n",
    "exp_var_ratio=exp_var_ratio_todorov\n",
    "\n",
    "plt.figure(figsize=(4, 2))\n",
    "plt.bar(range(1,n_comp+1), exp_var_ratio, alpha=0.5, align='center',label='Individual variance', color=\"dodgerblue\")\n",
    "plt.xlabel('Number of PCs',fontsize=21)\n",
    "plt.yticks(fontsize=21)\n",
    "plt.xticks([0, 5, 10, 15], fontsize=21)\n",
    "plt.subplots_adjust(left=0.15,bottom=0.15)\n",
    "plt.savefig(os.path.join(ROOT_DIR, \"data\", \"figures\", \"fig_3\", \"cum_var_barplot_human.png\"), format=\"png\", dpi=800, bbox_inches=\"tight\")\n"
   ]
  }
 ],
 "metadata": {
  "kernelspec": {
   "display_name": "myochallenge",
   "language": "python",
   "name": "python3"
  },
  "language_info": {
   "codemirror_mode": {
    "name": "ipython",
    "version": 3
   },
   "file_extension": ".py",
   "mimetype": "text/x-python",
   "name": "python",
   "nbconvert_exporter": "python",
   "pygments_lexer": "ipython3",
   "version": "3.9.0"
  }
 },
 "nbformat": 4,
 "nbformat_minor": 2
}
