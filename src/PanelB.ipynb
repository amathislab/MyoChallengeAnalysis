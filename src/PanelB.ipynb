{
 "cells": [
  {
   "attachments": {},
   "cell_type": "markdown",
   "metadata": {},
   "source": [
    "## Analysis of high- and low-variance PCs in velocity space during rotation (panel B)"
   ]
  },
  {
   "cell_type": "code",
   "execution_count": 82,
   "metadata": {},
   "outputs": [],
   "source": [
    "from definitions import ROOT_DIR\n",
    "import os\n",
    "import numpy as np\n",
    "from sklearn.decomposition import PCA\n",
    "import matplotlib.pyplot as plt\n",
    "from functions_notebook import make_parallel_envs,set_config,cross_project_kin,plot_cross_projection,mean_ratio\n",
    "import pickle\n",
    "from sklearn.discriminant_analysis import LinearDiscriminantAnalysis as LDA\n",
    "from sklearn.model_selection import train_test_split\n",
    "from stable_baselines3.common.vec_env import VecNormalize\n",
    "from sb3_contrib import RecurrentPPO\n",
    "from envs.environment_factory import EnvironmentFactory"
   ]
  },
  {
   "attachments": {},
   "cell_type": "markdown",
   "metadata": {},
   "source": [
    "### A. Low-variance PCs : linear classification performance"
   ]
  },
  {
   "attachments": {},
   "cell_type": "markdown",
   "metadata": {},
   "source": [
    "1. __Go to 2. to directly load the previously-obtained data__\\\n",
    "a. Define the 3 tasks : hold, cw, ccw\\\n",
    "b. Generate and label the velocities for each task\\\n",
    "c. Save the data"
   ]
  },
  {
   "cell_type": "code",
   "execution_count": null,
   "metadata": {},
   "outputs": [],
   "source": [
    "num_ep = 50\n",
    "num_cond = 3\n",
    "\n",
    "PATH_TO_NORMALIZED_ENV = os.path.join(\n",
    "    ROOT_DIR,\n",
    "    \"trained_models/curriculum_steps_complete_baoding_winner/32_phase_2_smaller_rate_resume/env.pkl\",\n",
    ")\n",
    "PATH_TO_PRETRAINED_NET = os.path.join(\n",
    "    ROOT_DIR,\n",
    "    \"trained_models/curriculum_steps_complete_baoding_winner/32_phase_2_smaller_rate_resume/model.zip\",\n",
    ")\n",
    "\n",
    "env_name = \"CustomMyoBaodingBallsP2\"\n",
    "render = False\n",
    "\n",
    "C_hold = set_config(period=1e100,rot_dir=None)\n",
    "C_cw = set_config(period=5,rot_dir=\"cw\")\n",
    "C_ccw = set_config(period=5,rot_dir=\"ccw\")\n",
    "\n",
    "configs = {'hold':C_hold,'cw':C_cw,'ccw':C_ccw}\n",
    "\n",
    "conds = []\n",
    "\n",
    "for task in configs :\n",
    "    envs = make_parallel_envs(env_name, configs[task], num_env=1)\n",
    "    envs = VecNormalize.load(PATH_TO_NORMALIZED_ENV, envs)\n",
    "    envs.training = False\n",
    "    envs.norm_reward = False\n",
    "    custom_objects = {\n",
    "        \"learning_rate\": lambda _: 0,\n",
    "        \"lr_schedule\": lambda _: 0,\n",
    "        \"clip_range\": lambda _: 0,\n",
    "    }\n",
    "    model = RecurrentPPO.load(\n",
    "            PATH_TO_PRETRAINED_NET, env=envs, device=\"cpu\", custom_objects=custom_objects\n",
    "        )\n",
    "\n",
    "    eval_model = model\n",
    "    eval_env = EnvironmentFactory.create(env_name,**configs[task])\n",
    "    tot_vel = []\n",
    "    for n in range(num_ep):\n",
    "        obs_tot = []\n",
    "        cum_reward = 0\n",
    "        lstm_states = None\n",
    "        obs = eval_env.reset()\n",
    "        episode_starts = np.ones((1,), dtype=bool)\n",
    "        done = False\n",
    "        timestep = 0\n",
    "        while not done: \n",
    "            if render :\n",
    "                eval_env.sim.render(mode=\"window\")\n",
    "                \n",
    "            timestep += 1\n",
    "            action, lstm_states = eval_model.predict(envs.normalize_obs(obs),\n",
    "                                                    state=lstm_states,\n",
    "                                                    episode_start=episode_starts,\n",
    "                                                    deterministic=True,\n",
    "                                                    )\n",
    "                                                        \n",
    "            obs, rewards, done, info = eval_env.step(action)\n",
    "            episode_starts = done\n",
    "            cum_reward += rewards\n",
    "            obs_tot.append(obs)\n",
    "        if len(obs_tot) < 200 :\n",
    "            print(\"Stopped before 200, task : %s\" %task, \" number of steps : \",timestep)\n",
    "            temp = np.zeros((200,86))\n",
    "            temp[:len(obs_tot)] += obs_tot\n",
    "            obs_tot = temp\n",
    "        print('episode %s : '%n,cum_reward)\n",
    "\n",
    "        # MEASURE JOINT POSITION AND VELOCITY\n",
    "        hand_positions = np.array(obs_tot)[:,0:23]    \n",
    "        hand_velocities = np.array([np.diff(pos)/0.0025 for pos in hand_positions.T]).T\n",
    "        hand_velocities = np.vstack((np.zeros((1,23)),hand_velocities))                                \n",
    "\n",
    "        conds.append({'task':configs[task],'encoding':task,'reward':cum_reward,'hand velocity':np.array(hand_velocities)})\n",
    "\n",
    "'''fp = \"\"\n",
    "fp_conditions = open(fp, 'wb')\n",
    "pickle.dump(conds,fp_conditions)\n",
    "fp_conditions.close()'''"
   ]
  },
  {
   "attachments": {},
   "cell_type": "markdown",
   "metadata": {},
   "source": [
    "2. Load the velocities and labels for each task"
   ]
  },
  {
   "cell_type": "code",
   "execution_count": 76,
   "metadata": {},
   "outputs": [],
   "source": [
    "# Load the file from Basecamp : 'synergies_tasks'\n",
    "conds = pickle.load(open(os.path.join(ROOT_DIR, \"data\", \"basecamp\", \"synergies_tasks\"), \"rb\"))\n",
    "hand_kinematics = np.concatenate([cond['hand velocity'] for cond in conds])\n",
    "labels = np.array([cond[\"encoding\"] for cond in conds])"
   ]
  },
  {
   "attachments": {},
   "cell_type": "markdown",
   "metadata": {},
   "source": [
    "3. __Go to 4. to directly load the classification performance vs. number of high-variance PCs removed__\\\n",
    "a. Compute the PCs\\\n",
    "b. Project the velocities on a progressively lower-dimensional subspace\\\n",
    "c. Train a linear classifier to identify the task's identity (Leave-One-Out cross-validation)\\\n",
    "d. Save the data"
   ]
  },
  {
   "cell_type": "code",
   "execution_count": 58,
   "metadata": {},
   "outputs": [],
   "source": [
    "n_comp = 23\n",
    "pca = PCA(n_components=n_comp).fit(hand_kinematics)"
   ]
  },
  {
   "cell_type": "code",
   "execution_count": 31,
   "metadata": {},
   "outputs": [],
   "source": [
    "# k = 0\n",
    "# components = pca.components_[k:, :]\n",
    "# projected_conds = [{'label':cond['encoding'], 'projected velocity':np.dot(cond['hand velocity']+pca.mean_, components)} for cond in conds]"
   ]
  },
  {
   "cell_type": "code",
   "execution_count": 63,
   "metadata": {},
   "outputs": [
    {
     "data": {
      "text/plain": [
       "array([-2.15270195, -1.74223791, -5.70312755, -3.21037581, -4.86985067,\n",
       "       -2.5622668 ,  8.20370322,  4.86497278,  1.45355131,  0.10292818,\n",
       "       -1.06750083, 12.58015481, -9.72487215, -1.50942187, -3.15657826,\n",
       "        1.01687868,  7.79969683,  0.24057796,  0.41946125,  1.23914573,\n",
       "        0.53664181,  0.4868503 ,  0.59180148])"
      ]
     },
     "execution_count": 63,
     "metadata": {},
     "output_type": "execute_result"
    }
   ],
   "source": [
    "hand_kinematics[10]"
   ]
  },
  {
   "cell_type": "code",
   "execution_count": 68,
   "metadata": {},
   "outputs": [
    {
     "data": {
      "text/plain": [
       "array([-2.7214423 , -4.07384059, -4.26988651, -1.03598605, -1.82753885,\n",
       "       -6.11908656,  6.16052274,  0.05267491,  0.62621314,  0.10855789,\n",
       "       -1.12099812,  9.32716579, -9.46587297, -1.50293147, -3.18550802,\n",
       "        0.88297281,  7.5428682 ,  0.2536566 ,  0.35177045,  0.99427746,\n",
       "        1.45620773,  0.45781031,  0.53504309])"
      ]
     },
     "execution_count": 68,
     "metadata": {},
     "output_type": "execute_result"
    }
   ],
   "source": [
    "k = 1\n",
    "components = pca.components_[k:, :]\n",
    "coeffs = pca.transform(hand_kinematics)[:, k:]\n",
    "projected_kinematics = np.dot(coeffs, components) + pca.mean_\n",
    "projected_kinematics[10]"
   ]
  },
  {
   "cell_type": "code",
   "execution_count": 74,
   "metadata": {},
   "outputs": [
    {
     "data": {
      "text/plain": [
       "'hold'"
      ]
     },
     "execution_count": 74,
     "metadata": {},
     "output_type": "execute_result"
    }
   ],
   "source": [
    "conds[0][\"encoding\"]"
   ]
  },
  {
   "cell_type": "code",
   "execution_count": 83,
   "metadata": {},
   "outputs": [],
   "source": [
    "pca_coeffs = pca.transform(hand_kinematics)"
   ]
  },
  {
   "cell_type": "code",
   "execution_count": 85,
   "metadata": {},
   "outputs": [
    {
     "data": {
      "text/plain": [
       "(30000, 23)"
      ]
     },
     "execution_count": 85,
     "metadata": {},
     "output_type": "execute_result"
    }
   ],
   "source": [
    "pca_coeffs.shape"
   ]
  },
  {
   "cell_type": "code",
   "execution_count": 81,
   "metadata": {},
   "outputs": [
    {
     "name": "stdout",
     "output_type": "stream",
     "text": [
      "0\n",
      "1\n"
     ]
    },
    {
     "ename": "KeyboardInterrupt",
     "evalue": "",
     "output_type": "error",
     "traceback": [
      "\u001b[0;31m---------------------------------------------------------------------------\u001b[0m",
      "\u001b[0;31mKeyboardInterrupt\u001b[0m                         Traceback (most recent call last)",
      "Cell \u001b[0;32mIn[81], line 18\u001b[0m\n\u001b[1;32m     16\u001b[0m \u001b[39mfor\u001b[39;00m i \u001b[39min\u001b[39;00m \u001b[39mrange\u001b[39m(num_ep):\n\u001b[1;32m     17\u001b[0m     x_train, x_test, y_train, y_test \u001b[39m=\u001b[39m train_test_split(X,y,train_size\u001b[39m=\u001b[39mnum_cond\u001b[39m*\u001b[39m(num_ep\u001b[39m-\u001b[39m\u001b[39m1\u001b[39m),test_size\u001b[39m=\u001b[39mnum_cond)\n\u001b[0;32m---> 18\u001b[0m     lda \u001b[39m=\u001b[39m LDA()\u001b[39m.\u001b[39;49mfit(x_train,y_train)\n\u001b[1;32m     19\u001b[0m     class_performance\u001b[39m.\u001b[39mappend(lda\u001b[39m.\u001b[39mscore(X\u001b[39m=\u001b[39mx_test,y\u001b[39m=\u001b[39my_test))\n\u001b[1;32m     21\u001b[0m performance\u001b[39m.\u001b[39mappend(np\u001b[39m.\u001b[39mmean(np\u001b[39m.\u001b[39marray(class_performance)))\n",
      "File \u001b[0;32m/opt/homebrew/Caskroom/miniforge/base/envs/myochallenge/lib/python3.9/site-packages/sklearn/discriminant_analysis.py:622\u001b[0m, in \u001b[0;36mLinearDiscriminantAnalysis.fit\u001b[0;34m(self, X, y)\u001b[0m\n\u001b[1;32m    616\u001b[0m     \u001b[39mif\u001b[39;00m \u001b[39mself\u001b[39m\u001b[39m.\u001b[39mcovariance_estimator \u001b[39mis\u001b[39;00m \u001b[39mnot\u001b[39;00m \u001b[39mNone\u001b[39;00m:\n\u001b[1;32m    617\u001b[0m         \u001b[39mraise\u001b[39;00m \u001b[39mValueError\u001b[39;00m(\n\u001b[1;32m    618\u001b[0m             \u001b[39m\"\u001b[39m\u001b[39mcovariance estimator \u001b[39m\u001b[39m\"\u001b[39m\n\u001b[1;32m    619\u001b[0m             \u001b[39m\"\u001b[39m\u001b[39mis not supported \u001b[39m\u001b[39m\"\u001b[39m\n\u001b[1;32m    620\u001b[0m             \u001b[39m\"\u001b[39m\u001b[39mwith svd solver. Try another solver\u001b[39m\u001b[39m\"\u001b[39m\n\u001b[1;32m    621\u001b[0m         )\n\u001b[0;32m--> 622\u001b[0m     \u001b[39mself\u001b[39;49m\u001b[39m.\u001b[39;49m_solve_svd(X, y)\n\u001b[1;32m    623\u001b[0m \u001b[39melif\u001b[39;00m \u001b[39mself\u001b[39m\u001b[39m.\u001b[39msolver \u001b[39m==\u001b[39m \u001b[39m\"\u001b[39m\u001b[39mlsqr\u001b[39m\u001b[39m\"\u001b[39m:\n\u001b[1;32m    624\u001b[0m     \u001b[39mself\u001b[39m\u001b[39m.\u001b[39m_solve_lstsq(\n\u001b[1;32m    625\u001b[0m         X,\n\u001b[1;32m    626\u001b[0m         y,\n\u001b[1;32m    627\u001b[0m         shrinkage\u001b[39m=\u001b[39m\u001b[39mself\u001b[39m\u001b[39m.\u001b[39mshrinkage,\n\u001b[1;32m    628\u001b[0m         covariance_estimator\u001b[39m=\u001b[39m\u001b[39mself\u001b[39m\u001b[39m.\u001b[39mcovariance_estimator,\n\u001b[1;32m    629\u001b[0m     )\n",
      "File \u001b[0;32m/opt/homebrew/Caskroom/miniforge/base/envs/myochallenge/lib/python3.9/site-packages/sklearn/discriminant_analysis.py:527\u001b[0m, in \u001b[0;36mLinearDiscriminantAnalysis._solve_svd\u001b[0;34m(self, X, y)\u001b[0m\n\u001b[1;32m    523\u001b[0m fac \u001b[39m=\u001b[39m \u001b[39m1.0\u001b[39m \u001b[39mif\u001b[39;00m n_classes \u001b[39m==\u001b[39m \u001b[39m1\u001b[39m \u001b[39melse\u001b[39;00m \u001b[39m1.0\u001b[39m \u001b[39m/\u001b[39m (n_classes \u001b[39m-\u001b[39m \u001b[39m1\u001b[39m)\n\u001b[1;32m    525\u001b[0m \u001b[39m# 3) Between variance scaling\u001b[39;00m\n\u001b[1;32m    526\u001b[0m \u001b[39m# Scale weighted centers\u001b[39;00m\n\u001b[0;32m--> 527\u001b[0m X \u001b[39m=\u001b[39m (\n\u001b[1;32m    528\u001b[0m     (xp\u001b[39m.\u001b[39;49msqrt((n_samples \u001b[39m*\u001b[39;49m \u001b[39mself\u001b[39;49m\u001b[39m.\u001b[39;49mpriors_) \u001b[39m*\u001b[39;49m fac)) \u001b[39m*\u001b[39;49m (\u001b[39mself\u001b[39;49m\u001b[39m.\u001b[39;49mmeans_ \u001b[39m-\u001b[39;49m \u001b[39mself\u001b[39;49m\u001b[39m.\u001b[39;49mxbar_)\u001b[39m.\u001b[39;49mT\n\u001b[1;32m    529\u001b[0m )\u001b[39m.\u001b[39;49mT \u001b[39m@\u001b[39;49m scalings\n\u001b[1;32m    530\u001b[0m \u001b[39m# Centers are living in a space with n_classes-1 dim (maximum)\u001b[39;00m\n\u001b[1;32m    531\u001b[0m \u001b[39m# Use SVD to find projection in the space spanned by the\u001b[39;00m\n\u001b[1;32m    532\u001b[0m \u001b[39m# (n_classes) centers\u001b[39;00m\n\u001b[1;32m    533\u001b[0m _, S, Vt \u001b[39m=\u001b[39m svd(X, full_matrices\u001b[39m=\u001b[39m\u001b[39mFalse\u001b[39;00m)\n",
      "\u001b[0;31mKeyboardInterrupt\u001b[0m: "
     ]
    }
   ],
   "source": [
    "num_ep = 50\n",
    "num_cond = 3\n",
    "performance = []\n",
    "for k in range(n_comp):\n",
    "    print(k)\n",
    "    components = pca.components_[k:, :]\n",
    "    projected_conds = []\n",
    "    for cond in conds:\n",
    "        pca_coeffs = np.dot(cond['hand velocity'] - pca.mean_, components.T)\n",
    "        # proj = np.dot(pca_coeffs, components) + pca.mean_\n",
    "        projected_conds.append({'label': cond['encoding'], 'pca_coeffs': pca_coeffs})\n",
    "    \n",
    "    X = [d['projected velocity'].flatten() for d in projected_conds]\n",
    "    y = [d['label'] for d in projected_conds]\n",
    "    class_performance = []\n",
    "    for i in range(num_ep):\n",
    "        x_train, x_test, y_train, y_test = train_test_split(X,y,train_size=num_cond*(num_ep-1),test_size=num_cond)\n",
    "        lda = LDA().fit(x_train,y_train)\n",
    "        class_performance.append(lda.score(X=x_test,y=y_test))\n",
    "\n",
    "    performance.append(np.mean(np.array(class_performance)))\n",
    " \n",
    "'''fp = \"\"    \n",
    "fp_perf = open(fp, 'wb')\n",
    "pickle.dump(performance,fp_perf)\n",
    "fp.close()'''"
   ]
  },
  {
   "attachments": {},
   "cell_type": "markdown",
   "metadata": {},
   "source": [
    "4. Load the classification performance vs. number of high-variance PCs removed"
   ]
  },
  {
   "cell_type": "code",
   "execution_count": 5,
   "metadata": {},
   "outputs": [],
   "source": [
    "# Load the file from basecamp : 'class_performance_tasks_r'\n",
    "performance = pickle.load(open(os.path.join(ROOT_DIR, \"data\", \"basecamp\", \"class_performance_tasks_r\"), \"rb\"))\n",
    "n_comp=23"
   ]
  },
  {
   "attachments": {},
   "cell_type": "markdown",
   "metadata": {},
   "source": [
    "5. Plot the classification performance vs. number of high-variance PCs removed"
   ]
  },
  {
   "cell_type": "code",
   "execution_count": 8,
   "metadata": {},
   "outputs": [
    {
     "data": {
      "image/png": "[encoded data removed]",
      "text/plain": [
       "<Figure size 640x480 with 1 Axes>"
      ]
     },
     "metadata": {},
     "output_type": "display_data"
    }
   ],
   "source": [
    "pc_low_variance = next(x[0] for x in enumerate(pca.explained_variance_ratio_) if x[1] < 0.01)\n",
    "plt.plot([n for n in range(n_comp)],performance,'-o',linewidth=1,markersize=2,color='black')\n",
    "plt.axvline(x=pc_low_variance, ymax=0.46,color='r', linestyle='-',linewidth=1,label='1% Variance')\n",
    "plt.legend(fontsize=21)\n",
    "plt.xlabel('Number of PCs removed',fontsize=21)\n",
    "plt.ylabel('Accuracy',fontsize=21)\n",
    "plt.title('Classification performance',fontsize=21)\n",
    "plt.yticks(fontsize=21)\n",
    "plt.xticks(fontsize=21)\n",
    "plt.subplots_adjust(left=0.21,bottom=0.15)"
   ]
  },
  {
   "attachments": {},
   "cell_type": "markdown",
   "metadata": {},
   "source": [
    "### B. High-variance PCs : cross-projection similarity"
   ]
  },
  {
   "attachments": {},
   "cell_type": "markdown",
   "metadata": {},
   "source": [
    "1. Load the velocities and labels for each task (same as in section A.2.a)"
   ]
  },
  {
   "cell_type": "code",
   "execution_count": null,
   "metadata": {},
   "outputs": [],
   "source": [
    "# Load the file from basecamp : 'synergies_tasks'\n",
    "conds = pickle.load(open('/home/ingster/Bureau/SIL-BigResults/synergies_tasks','rb')) \n",
    "\n",
    "hold_velocities = np.concatenate([cond['hand velocity'] for cond in conds if cond['encoding']=='hold'])\n",
    "cw_velocities = np.concatenate([cond['hand velocity'] for cond in conds if cond['encoding']=='cw'])\n",
    "ccw_velocities = np.concatenate([cond['hand velocity'] for cond in conds if cond['encoding']=='ccw'])\n",
    "\n",
    "n_comp = 23\n",
    "n_highpc = 12 # Considering that the first 12 PCs account for most of the variance = high-variance PCs"
   ]
  },
  {
   "attachments": {},
   "cell_type": "markdown",
   "metadata": {},
   "source": [
    "2. a. Cross-projection \\\n",
    "b. Quantify the degree of similarity between subpaces by computing average V2/V1\\\n",
    "c. Visualize the degree of similarity between subspaces by plotting cumulative explained variances"
   ]
  },
  {
   "cell_type": "code",
   "execution_count": null,
   "metadata": {},
   "outputs": [],
   "source": [
    "# Cross-projection\n",
    "cproj_hold_cw = cross_project_kin(vel1=hold_velocities,vel2=ccw_velocities,n_comp=n_comp,n_highpc=n_highpc)\n",
    "cproj_hold_ccw = cross_project_kin(vel1=hold_velocities,vel2=ccw_velocities,n_comp=n_comp,n_highpc=n_highpc)\n",
    "cproj_ccw_cw = cross_project_kin(vel1=ccw_velocities,vel2=cw_velocities,n_comp=n_comp,n_highpc=n_highpc)\n",
    "\n",
    "# Quantify\n",
    "hold_cw = mean_ratio(n_highpc=n_highpc,cproj=cproj_hold_cw)\n",
    "hold_ccw = mean_ratio(n_highpc=n_highpc,cproj=cproj_hold_ccw)\n",
    "ccw_cw = mean_ratio(n_highpc=n_highpc,cproj=cproj_ccw_cw)\n",
    "\n",
    "hold_cw_r = hold_cw[0]\n",
    "hold_ccw_r = hold_ccw[0]\n",
    "ccw_cw_r = ccw_cw[0]\n",
    "\n",
    "V = {'hold vs. cw':np.round(hold_cw_r,7), 'hold vs. ccw':np.round(hold_ccw_r,7), 'cw vs. ccw':np.round(ccw_cw_r,7)}\n",
    "print(V)\n",
    "\n",
    "# Visualize\n",
    "plot_cross_projection(n_comp=n_comp,cum_1_2=hold_cw[1],cum_2_1=hold_cw[2],label1='Hold on CW',label2='CW on hold')\n",
    "plot_cross_projection(n_comp=n_comp,cum_1_2=hold_ccw[1],cum_2_1=hold_ccw[2],label1='Hold on CCW',label2='CCW on hold')\n",
    "plot_cross_projection(n_comp=n_comp,cum_1_2=ccw_cw[1],cum_2_1=ccw_cw[2],label1='CCW on CW',label2='CW on CCW')\n"
   ]
  }
 ],
 "metadata": {
  "kernelspec": {
   "display_name": "MyoChallenge2",
   "language": "python",
   "name": "python3"
  },
  "language_info": {
   "codemirror_mode": {
    "name": "ipython",
    "version": 3
   },
   "file_extension": ".py",
   "mimetype": "text/x-python",
   "name": "python",
   "nbconvert_exporter": "python",
   "pygments_lexer": "ipython3",
   "version": "3.9.0"
  },
  "orig_nbformat": 4
 },
 "nbformat": 4,
 "nbformat_minor": 2
}
