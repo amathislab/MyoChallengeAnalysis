{
 "cells": [
  {
   "attachments": {},
   "cell_type": "markdown",
   "metadata": {},
   "source": [
    "# Analysis of motor synergies, Todorov's paper (panel A)"
   ]
  },
  {
   "cell_type": "code",
   "execution_count": null,
   "metadata": {},
   "outputs": [],
   "source": [
    "from definitions import ROOT_DIR\n",
    "import os\n",
    "import numpy as np\n",
    "import pandas as pd\n",
    "from functions_notebook import PCvsVar, plot_cumvar\n",
    "import matplotlib.pyplot as plt\n",
    "from sklearn.decomposition import PCA\n",
    "import json\n",
    "import joblib\n",
    "from matplotlib.cm import get_cmap"
   ]
  },
  {
   "cell_type": "markdown",
   "metadata": {},
   "source": [
    "## Load the rollouts from all tasks"
   ]
  },
  {
   "cell_type": "code",
   "execution_count": null,
   "metadata": {},
   "outputs": [],
   "source": [
    "data_dir = os.path.join(ROOT_DIR, \"data\", \"rollouts\")\n",
    "control_tasks_dict = {\n",
    "    \"hand_pose\": \"hand_pose_1000_episodes_lattice.h5\",\n",
    "    \"hand_reach\": \"hand_reach_1000_episodes_lattice.h5\",\n",
    "    \"reorient\": \"reorient_1000_episodes_lattice.h5\",\n",
    "    \"pen\": \"pen_1000_episodes_lattice.h5\",\n",
    "}\n",
    "df_dict = {\n",
    "    key: pd.read_hdf(os.path.join(data_dir, \"control\", value))\n",
    "    for key, value in control_tasks_dict.items()\n",
    "}\n",
    "\n",
    "baoding_data_path = os.path.join(data_dir, \"final_model_500_episodes_activations_info_small_variations_ccw\", \"data.hdf\")\n",
    "baoding_df = pd.read_hdf(baoding_data_path)\n",
    "df_dict.update({\"baoding\": baoding_df})\n",
    "\n",
    "early_baoding_data_path = os.path.join(data_dir, \"step_12_500_episodes_activations_info_ccw\", \"data.hdf\")\n",
    "early_baoding_df = pd.read_hdf(early_baoding_data_path)\n",
    "df_dict.update({\"early_baoding\": early_baoding_df})"
   ]
  },
  {
   "cell_type": "code",
   "execution_count": null,
   "metadata": {},
   "outputs": [],
   "source": [
    "def get_episode_vel(episode_pos):\n",
    "    episode_vel = np.zeros_like(episode_pos)\n",
    "    episode_vel[1:, :] = (episode_pos[1:] - episode_pos[:-1])  # 40 sim steps per second\n",
    "    # episode_vel = signal.savgol_filter(episode_pos, window_length=3, polyorder=1, deriv=1, axis=0)\n",
    "    return episode_vel\n",
    "\n",
    "def get_pos_vel_act(df):\n",
    "    if \"task\" in df.keys():\n",
    "        pos_list = df.groupby([\"episode\", \"task\"])[\"observation\"].agg(lambda x: np.vstack(x)[:, :23]).tolist()\n",
    "    else:\n",
    "        pos_list = df.groupby([\"episode\"])[\"observation\"].agg(lambda x: np.vstack(x)[:, :23]).tolist()\n",
    "    vel_list = [get_episode_vel(episode_pos) for episode_pos in pos_list]\n",
    "    pos = np.vstack(pos_list)\n",
    "    vel = np.vstack(vel_list)\n",
    "    muscle_act = np.vstack(df.muscle_act)\n",
    "    return pos, vel, muscle_act\n",
    "\n",
    "task_pos_vel_act_dict = {}\n",
    "for key, value in df_dict.items():\n",
    "    pos, vel, muscle_act = get_pos_vel_act(value)\n",
    "    task_pos_vel_act_dict[key] = {\"pos\": pos, \"vel\": vel, \"muscle_act\": muscle_act}"
   ]
  },
  {
   "cell_type": "code",
   "execution_count": null,
   "metadata": {},
   "outputs": [],
   "source": [
    "# Plot active muscles as a function of the activity threshold\n",
    "threshold_vec = np.linspace(0, 1, 100)\n",
    "\n",
    "active_muscles_dict = {}\n",
    "for task, pos_vel_act_dict in task_pos_vel_act_dict.items():\n",
    "    active_muscle_list = []\n",
    "    muscle_act = pos_vel_act_dict[\"muscle_act\"]\n",
    "    for threshold in threshold_vec:\n",
    "        muscle_act_bin = (muscle_act > threshold).astype(int).sum(axis=1)\n",
    "        avg_active_muscles = np.mean(muscle_act_bin)\n",
    "        active_muscle_list.append(avg_active_muscles)\n",
    "    active_muscles_dict[task] = active_muscle_list\n",
    "    \n",
    "plt.figure(figsize=(10, 4))\n",
    "for task, active_muscle_list in active_muscles_dict.items():\n",
    "    plt.plot(threshold_vec, active_muscle_list, label=task)\n",
    "plt.title(\"Average active muscles\")\n",
    "plt.xlabel(\"Activation threshold\")\n",
    "plt.ylabel(\"Number of muscles\")\n",
    "plt.legend()\n",
    "plt.savefig(os.path.join(ROOT_DIR, \"data\", \"figures\", \"rebuttal\", f\"activation_vs_threshold\"), format=\"png\", dpi=600, bbox_inches=\"tight\")\n",
    "plt.show()\n",
    "\n"
   ]
  },
  {
   "cell_type": "code",
   "execution_count": null,
   "metadata": {},
   "outputs": [],
   "source": [
    "# PCA of the hand pose, velocity and muscle activations for all tasks\n",
    "num_joints = 23 \n",
    "num_muscles = 39 \n",
    "exp_var_dict = {\n",
    "    \"pos\": {},\n",
    "    \"vel\": {},\n",
    "    \"muscle_act\": {}\n",
    "}\n",
    "for task, pos_vel_act_dict in task_pos_vel_act_dict.items():\n",
    "    pos = pos_vel_act_dict[\"pos\"]\n",
    "    vel = pos_vel_act_dict[\"vel\"]\n",
    "    muscle_act = pos_vel_act_dict[\"muscle_act\"]\n",
    "    exp_var_pos = PCvsVar(pos, n_comp=num_joints)\n",
    "    exp_var_vel = PCvsVar(vel, n_comp=num_joints)\n",
    "    exp_var_muscle_act = PCvsVar(muscle_act, n_comp=num_muscles)\n",
    "    exp_var_dict[\"pos\"][task] = exp_var_pos\n",
    "    exp_var_dict[\"vel\"][task] = exp_var_vel\n",
    "    exp_var_dict[\"muscle_act\"][task] = exp_var_muscle_act\n"
   ]
  },
  {
   "cell_type": "code",
   "execution_count": null,
   "metadata": {},
   "outputs": [],
   "source": [
    "def get_dof_count(exp_var, threshold=0.85):\n",
    "    cum_exp_var = np.cumsum(exp_var)\n",
    "    for idx, val in enumerate(cum_exp_var):\n",
    "        if val > threshold:\n",
    "            return idx + 1"
   ]
  },
  {
   "cell_type": "code",
   "execution_count": null,
   "metadata": {},
   "outputs": [],
   "source": [
    "levels = [0.85, 0.95]\n",
    "dof_count_dict = {}\n",
    "for data_type, task_var_dict in exp_var_dict.items():\n",
    "    dof_per_task_dict = {}\n",
    "    for task, exp_var in task_var_dict.items():\n",
    "        dof_per_level_dict = {}\n",
    "        for l in levels:\n",
    "            dof_count = get_dof_count(exp_var, l)\n",
    "            dof_per_level_dict[l] = dof_count\n",
    "        dof_per_level_dict[\"avg\"] = np.mean(list(dof_per_level_dict.values()))\n",
    "        dof_per_task_dict[task] = dof_per_level_dict\n",
    "    dof_count_dict[data_type] = dof_per_task_dict\n",
    "\n",
    "print(json.dumps(dof_count_dict, indent=4))"
   ]
  },
  {
   "cell_type": "code",
   "execution_count": null,
   "metadata": {},
   "outputs": [],
   "source": [
    "# Extracted from Todorov's paper \n",
    "experimental_dof = {\n",
    "    \"pos\": {\n",
    "        \"control\": {\n",
    "            \"0.85\": 7,\n",
    "            \"0.95\": 10,\n",
    "            \"avg\": 8.5\n",
    "        },\n",
    "        \"baoding\": {\n",
    "            \"0.85\": 3,\n",
    "            \"0.95\": 7,\n",
    "            \"avg\": 5\n",
    "        }\n",
    "    },\n",
    "    \"vel\": {\n",
    "        \"control\": {\n",
    "            \"0.85\": 8,\n",
    "            \"0.95\": 12,\n",
    "            \"avg\": 10\n",
    "        },\n",
    "        \"baoding\": {\n",
    "            \"0.85\": 4,\n",
    "            \"0.95\": 8,\n",
    "            \"avg\": 6\n",
    "        }\n",
    "    }\n",
    "}"
   ]
  },
  {
   "cell_type": "markdown",
   "metadata": {},
   "source": [
    "## Comparison between the control manifolds of different tasks"
   ]
  },
  {
   "cell_type": "code",
   "execution_count": null,
   "metadata": {},
   "outputs": [],
   "source": [
    "n_comp = num_muscles\n",
    "for task, pos_vel_act_dict in task_pos_vel_act_dict.items():\n",
    "    muscle_act = pos_vel_act_dict[\"muscle_act\"]\n",
    "    pca = PCA(n_components=n_comp).fit(muscle_act)\n",
    "    out_path = os.path.join(ROOT_DIR, \"data\", \"pca\", f\"pca_muscle_act_{task}.joblib\")\n",
    "    joblib.dump(pca, out_path)"
   ]
  },
  {
   "cell_type": "code",
   "execution_count": null,
   "metadata": {},
   "outputs": [],
   "source": [
    "def ev(X, X_approx, model_mean):\n",
    "    return 1 - np.sum((X - X_approx)**2) / np.sum((X - model_mean)**2)\n",
    "\n",
    "def plot_explained_variance_ratio(exp_var, task_name, color, ax=None, fig=None):\n",
    "    if ax is None or fig is None:\n",
    "        fig, ax = plt.subplots()\n",
    "    ax.step(range(1, len(exp_var) + 1), exp_var, where='mid', linewidth=3, color=color, label=task_name)\n",
    "    ax.set_xlabel('Number of PCs',fontsize=21)\n",
    "    ax.set_ylabel('Cum. explained variance',fontsize=21)\n",
    "    plt.legend(fontsize=14,loc='best')\n",
    "    ax.tick_params(axis='both', labelsize=20)\n",
    "    ax.axhline(y=0.95, color='black', linestyle='--', alpha=0.5)\n",
    "    ax.axhline(y=0.85, color='black', linestyle='--', alpha=0.5)\n",
    "    ax.text(18, 0.9, '95%', color = 'black', fontsize=18)\n",
    "    ax.text(18, 0.8, '85%', color = 'black', fontsize=18)\n",
    "    return fig, ax\n",
    "    \n",
    "# Load the precomputed PCAs\n",
    "pca_dict = {}\n",
    "for task in task_pos_vel_act_dict.keys():\n",
    "    pca = joblib.load(os.path.join(ROOT_DIR, \"data\", \"pca\", f\"pca_muscle_act_{task}.joblib\"))\n",
    "    pca_dict[task] = pca\n",
    "\n",
    "cmap = get_cmap(\"plasma\")\n",
    "task_list = [\"baoding\", \"early_baoding\", \"hand_pose\", \"hand_reach\", \"pen\", \"reorient\"]\n",
    "task_colors = {\n",
    "    task: cmap((idx + 1) / (len(task_list) + 2))\n",
    "    for idx, task in enumerate(task_list)\n",
    "}\n",
    "\n",
    "# Plot the cumulative variance projected on the different PCA spaces\n",
    "for base_task in task_list:\n",
    "    fig, ax = plt.subplots()\n",
    "    ax.set_title(f\"Explained variance ratio for {base_task}\", fontsize=21)\n",
    "    for target_task, pca in pca_dict.items():\n",
    "        muscle_act = task_pos_vel_act_dict[base_task][\"muscle_act\"]\n",
    "        muscle_act_projected = pca.transform(muscle_act)\n",
    "        muscle_act_approx = pca.inverse_transform(muscle_act_projected)\n",
    "        exp_var = ev(muscle_act, muscle_act_approx, pca.mean_)\n",
    "        exp_var_ratio_list = [exp_var]\n",
    "        for i in range(1, num_muscles):\n",
    "            muscle_act_projected[:, -i:] = 0\n",
    "            muscle_act_approx = pca.inverse_transform(muscle_act_projected)\n",
    "            exp_var = ev(muscle_act, muscle_act_approx, pca.mean_)\n",
    "            exp_var_ratio_list.append(exp_var)\n",
    "        exp_var_ratio_list.reverse()\n",
    "\n",
    "        plot_explained_variance_ratio(exp_var_ratio_list, task_name=target_task, color=task_colors[target_task], ax=ax, fig=fig)\n",
    "    fig.savefig(os.path.join(ROOT_DIR, \"data\", \"figures\", \"rebuttal\", \"cum_var\", f\"cum_var_{base_task}_onto_all.png\"), format=\"png\", dpi=600, bbox_inches=\"tight\")\n",
    "    fig.show()\n"
   ]
  },
  {
   "cell_type": "code",
   "execution_count": null,
   "metadata": {},
   "outputs": [],
   "source": [
    "task_colors"
   ]
  },
  {
   "cell_type": "code",
   "execution_count": null,
   "metadata": {},
   "outputs": [],
   "source": [
    "# def plot_compare_explained_variance(exp_var_1, exp_var_2, exp_var_1_label=None, exp_var_2_label=None):\n",
    "#     assert len(exp_var_1) == len(exp_var_2)\n",
    "#     fig, ax = plt.subplots()\n",
    "#     ax.step(range(1, len(exp_var_1) + 1), np.cumsum(exp_var_1), where='mid',label=exp_var_1_label, linewidth=3, color=\"dodgerblue\")\n",
    "#     ax.step(range(1, len(exp_var_1) + 1), np.cumsum(exp_var_2), where='mid',label=exp_var_2_label, linewidth=3, color=\"orangered\")\n",
    "#     ax.set_xlabel('Number of PCs',fontsize=21)\n",
    "#     ax.set_ylabel('Cum. explained variance',fontsize=21)\n",
    "#     plt.legend(fontsize=21,loc='best')\n",
    "#     ax.tick_params(axis='both', labelsize=20)\n",
    "#     ax.axhline(y=0.95, color='black', linestyle='--', alpha=0.5)\n",
    "#     ax.axhline(y=0.85, color='black', linestyle='--', alpha=0.5)\n",
    "#     ax.text(18, 0.9, '95%', color = 'black', fontsize=18)\n",
    "#     ax.text(18, 0.8, '85%', color = 'black', fontsize=18)\n",
    "#     return fig, ax\n",
    "    \n",
    "# fig, ax = plot_compare_explained_variance(exp_var_pos_baoding, exp_var_pos_control, \"Baoding\", \"Control (hand pose)\")\n",
    "# # fig.savefig(os.path.join(ROOT_DIR, \"data\", \"figures\", \"panel_1\", \"pca_pos.png\"), format=\"png\", dpi=600, bbox_inches=\"tight\")\n",
    "# fig.show()\n",
    "\n",
    "# fig, ax = plot_compare_explained_variance(exp_var_vel_baoding, exp_var_vel_control, \"Baoding\", \"Control (hand pose)\")\n",
    "# # fig.savefig(os.path.join(ROOT_DIR, \"data\", \"figures\", \"panel_1\", \"pca_vel.png\"), format=\"png\", dpi=600, bbox_inches=\"tight\")\n",
    "\n",
    "# fig, ax = plot_compare_explained_variance(exp_var_muscle_baoding, exp_var_muscle_control, \"Baoding\", \"Control (hand pose)\")\n",
    "# # fig.savefig(os.path.join(ROOT_DIR, \"data\", \"figures\", \"panel_1\", \"pca_muscle_act.png\"), format=\"png\", dpi=600, bbox_inches=\"tight\")\n"
   ]
  },
  {
   "cell_type": "markdown",
   "metadata": {},
   "source": [
    "Interestingly, while the poses are embedded in a lower dimensional space for the baoding balls task, this is not the case for the muscle activations. In fact, we can hypotesize that the presence of objects and variable environment conditions forces the policy to be more robust, thus preventing the emergence of too stereotypical muscle activations"
   ]
  }
 ],
 "metadata": {
  "kernelspec": {
   "display_name": "MyoChallenge2",
   "language": "python",
   "name": "python3"
  },
  "language_info": {
   "codemirror_mode": {
    "name": "ipython",
    "version": 3
   },
   "file_extension": ".py",
   "mimetype": "text/x-python",
   "name": "python",
   "nbconvert_exporter": "python",
   "pygments_lexer": "ipython3",
   "version": "3.9.0"
  },
  "orig_nbformat": 4
 },
 "nbformat": 4,
 "nbformat_minor": 2
}
