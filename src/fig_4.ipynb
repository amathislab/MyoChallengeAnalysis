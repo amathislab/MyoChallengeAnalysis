{
 "cells": [
  {
   "cell_type": "markdown",
   "metadata": {},
   "source": [
    "# Generate plots for figure 4"
   ]
  },
  {
   "cell_type": "code",
   "execution_count": 1,
   "metadata": {},
   "outputs": [],
   "source": [
    "import numpy as np\n",
    "import matplotlib\n",
    "import matplotlib.pyplot as plt\n",
    "import pandas as pd\n",
    "import pickle\n",
    "import os\n",
    "from definitions import ROOT_DIR, NUM_MUSCLES, NUM_JOINTS\n",
    "from helpers import get_pos_vel_act, average_by_timestep\n",
    "from sklearn.decomposition import PCA"
   ]
  },
  {
   "cell_type": "markdown",
   "metadata": {},
   "source": [
    "## Load the performance decay dataset and plot it"
   ]
  },
  {
   "cell_type": "code",
   "execution_count": null,
   "metadata": {},
   "outputs": [],
   "source": [
    "sorting_modes = [\"best_to_worst\", \"worst_to_best\"]\n",
    "\n",
    "perf_dict = {\n",
    "        mode: pickle.load(open(os.path.join(ROOT_DIR, \"data\", \"performance_decay\", f\"performance_action_components_baoding_{mode}.pkl\"),'rb')) for mode in sorting_modes\n",
    "    }\n",
    "\n",
    "label_dict = {\n",
    "    \"best_to_worst\": \"High to low EV\",\n",
    "    \"worst_to_best\": \"Low to high EV\",\n",
    "}\n",
    "color_list = [\"dodgerblue\", \"red\"]\n",
    "plt.figure()\n",
    "for (mode, performance_components), color in zip(perf_dict.items(), color_list):\n",
    "    perfs_mean = np.array([d['solved_frac_mean'] for d in performance_components[::-1]])\n",
    "    perfs_sem = np.array([d['solved_frac_sem'] for d in performance_components[::-1]])\n",
    "\n",
    "    plt.errorbar(np.arange(NUM_MUSCLES), perfs_mean, yerr=perfs_sem, fmt='-', label=label_dict[mode], color=color)\n",
    "    plt.xlabel('Number of PCs',fontsize=16,labelpad=5)\n",
    "    plt.ylabel('Solved fraction',fontsize=16,labelpad=5)\n",
    "    plt.yticks(fontsize=14)\n",
    "    plt.xticks(fontsize=14)\n",
    "    plt.subplots_adjust(left=0.2,bottom=0.23)\n",
    "plt.legend(bbox_to_anchor=(1.02, 1.22), fontsize=14, ncol=2)\n",
    "plt.savefig(os.path.join(ROOT_DIR, \"data\", \"figures\", \"panel_3\", \"pca_performance_contrib.png\"), format=\"png\", dpi=600, bbox_inches=\"tight\")\n",
    "plt.show()"
   ]
  },
  {
   "cell_type": "markdown",
   "metadata": {},
   "source": [
    "## Load the dataset Baoding-SV and Control"
   ]
  },
  {
   "cell_type": "code",
   "execution_count": null,
   "metadata": {},
   "outputs": [],
   "source": [
    "baoding_df = pd.read_hdf(os.path.join(ROOT_DIR, \"data\", \"datasets\", \"baoding_sv_no_activity.h5\"))\n",
    "control_df = pd.read_hdf(os.path.join(ROOT_DIR, \"data\", \"datasets\", \"hand_pose.h5\"))\n",
    "\n",
    "pos_control, vel_control, muscle_act_control = get_pos_vel_act(control_df)\n",
    "pos_baoding, vel_baoding, muscle_act_baoding = get_pos_vel_act(baoding_df)"
   ]
  },
  {
   "cell_type": "markdown",
   "metadata": {},
   "source": [
    "## Plot the active muscles as a function of the activity threshold"
   ]
  },
  {
   "cell_type": "code",
   "execution_count": null,
   "metadata": {},
   "outputs": [],
   "source": [
    "min_val = min(np.min(muscle_act_baoding), np.min(muscle_act_control))\n",
    "max_val = max(np.max(muscle_act_baoding), np.max(muscle_act_control))\n",
    "eps = 1e-6\n",
    "threshold_vec = np.linspace(min_val - eps, max_val - eps, 1000)\n",
    "\n",
    "active_baoding_list = []\n",
    "active_baoding_sem_list = []\n",
    "active_control_list = []\n",
    "active_control_sem_list = []\n",
    "for threshold in threshold_vec:\n",
    "    muscle_act_baoding_bin = (muscle_act_baoding > threshold).astype(int).sum(axis=1)\n",
    "    muscle_act_control_bin = (muscle_act_control > threshold).astype(int).sum(axis=1)\n",
    "    avg_active_muscles_baoding = np.mean(muscle_act_baoding_bin)\n",
    "    sem_active_muscles_baoding = np.std(muscle_act_baoding_bin) / np.sqrt(len(muscle_act_baoding_bin))\n",
    "    avg_active_muscles_control = np.mean(muscle_act_control_bin)\n",
    "    sem_active_muscles_control = np.std(muscle_act_control_bin) / np.sqrt(len(muscle_act_control_bin))\n",
    "    active_baoding_list.append(avg_active_muscles_baoding)\n",
    "    active_baoding_sem_list.append(sem_active_muscles_baoding)\n",
    "    active_control_list.append(avg_active_muscles_control)\n",
    "    active_control_sem_list.append(sem_active_muscles_control)\n"
   ]
  },
  {
   "cell_type": "code",
   "execution_count": null,
   "metadata": {},
   "outputs": [],
   "source": [
    "fig, ax = plt.subplots(figsize=(6, 4))\n",
    "threshold_vec_pct = threshold_vec * 100\n",
    "ax.errorbar(threshold_vec_pct, active_baoding_list, yerr=active_baoding_sem_list, fmt='-', label=\"Baoding\", color=\"dodgerblue\")\n",
    "ax.errorbar(threshold_vec_pct, active_control_list, yerr=active_control_sem_list, fmt='-', label=\"Control (Hand Pose)\", color=\"red\")\n",
    "\n",
    "ax.set_title(\"Average active muscles\")\n",
    "ax.set_xlabel(\"Activation threshold %\", fontsize=16)\n",
    "ax.set_ylabel(\"Number of muscles\", fontsize=16)\n",
    "ax.tick_params(axis='both', which='major', labelsize=14)\n",
    "ax.tick_params(axis='both', which='minor', labelsize=12)\n",
    "ax.legend(fontsize=14)\n",
    "fig.savefig(os.path.join(ROOT_DIR, \"data\", \"figures\", \"fig_4\", f\"activation_vs_threshold.png\"), format=\"png\", dpi=600, bbox_inches=\"tight\")\n",
    "fig.show()"
   ]
  },
  {
   "cell_type": "code",
   "execution_count": null,
   "metadata": {},
   "outputs": [],
   "source": [
    "# For the text: number of muscles active at 5%\n",
    "idx = sum(threshold_vec < 0.05)\n",
    "print(\"Control: \", active_control_list[idx])\n",
    "print(\"Baoding: \", active_baoding_list[idx])"
   ]
  },
  {
   "cell_type": "markdown",
   "metadata": {},
   "source": [
    "## Plot time series of hand pose projected onto different PC ranges"
   ]
  },
  {
   "cell_type": "code",
   "execution_count": null,
   "metadata": {},
   "outputs": [],
   "source": [
    "# PCA plots of different component ranges\n",
    "data = np.vstack(baoding_df.observation)[:, :NUM_JOINTS]\n",
    "\n",
    "pc_range_list = [(0, 3), (5, 8), (12, 15), (20, 23)]\n",
    "cmap_list = [\"Reds\", \"Blues\"]\n",
    "dir_list = [\"cw\", \"ccw\"]\n",
    "label_list = [\"Clockwise\", \"Counter-clockwise\"]\n",
    "data_name = \"joint_pos\"\n",
    "\n",
    "pca = PCA(n_components=data.shape[1])\n",
    "out = pca.fit_transform(data)\n",
    "\n",
    "for pc_range in pc_range_list:\n",
    "    fig = plt.figure(figsize=(4, 4))\n",
    "    ax = fig.add_subplot(projection=\"3d\")\n",
    "\n",
    "    for cmap_name, direction, label in zip(cmap_list, dir_list, label_list):\n",
    "        out_direction = out[baoding_df.task == direction]\n",
    "        cmap = matplotlib.colormaps[cmap_name]\n",
    "        color_list = [cmap(i) for i in np.linspace(0.5, 1, 200)]    \n",
    "        colors = [color_list[idx] for idx in baoding_df.step[baoding_df.task == direction]]\n",
    "        plot_mat = out_direction[:, pc_range[0]:pc_range[1]]\n",
    "        mean_traj = average_by_timestep(plot_mat, baoding_df.step[baoding_df.task == direction])\n",
    "        ax.scatter(mean_traj[:, 0], mean_traj[:, 1], mean_traj[:, 2], c=color_list, label=label)\n",
    "\n",
    "    ax.xaxis.set_pane_color((1.0, 1.0, 1.0, 0.0))\n",
    "    ax.yaxis.set_pane_color((1.0, 1.0, 1.0, 0.0))\n",
    "    ax.zaxis.set_pane_color((1.0, 1.0, 1.0, 0.0))\n",
    "    ax.xaxis._axinfo[\"grid\"]['color'] =  (1,1,1,0)\n",
    "    ax.yaxis._axinfo[\"grid\"]['color'] =  (1,1,1,0)\n",
    "    ax.zaxis._axinfo[\"grid\"]['color'] =  (1,1,1,0)\n",
    "    ax.view_init(30, 45)\n",
    "    ax.set_xlabel(f\"\\n\\nPC {pc_range[0] + 1}\", fontsize=12)\n",
    "    ax.set_ylabel(f\"\\n\\nPC {pc_range[0] + 2}\", fontsize=12)\n",
    "    ax.set_zlabel(f\"\\n\\nPC {pc_range[0] + 3}\", fontsize=12)\n",
    "    ax.set_box_aspect(aspect=None, zoom=0.7)\n",
    "    ax.ticklabel_format(style=\"sci\", scilimits=(-2, 2))\n",
    "    ax.locator_params(axis='both', nbins=4)\n",
    "    ax.tick_params(axis='both', which='major', labelsize=12)\n",
    "    ax.tick_params(axis='both', which='minor', labelsize=10)\n",
    "    # ax.legend()\n",
    "    out_name = f\"pca_{data_name}_components_{'_'.join(str(el) for el in pc_range)}.png\"\n",
    "    fig.savefig(os.path.join(ROOT_DIR, \"data\", \"figures\", \"panel_2\", out_name), format=\"png\", dpi=800, bbox_inches=\"tight\")\n",
    "    fig.show()"
   ]
  }
 ],
 "metadata": {
  "kernelspec": {
   "display_name": "myochallenge",
   "language": "python",
   "name": "python3"
  },
  "language_info": {
   "codemirror_mode": {
    "name": "ipython",
    "version": 3
   },
   "file_extension": ".py",
   "mimetype": "text/x-python",
   "name": "python",
   "nbconvert_exporter": "python",
   "pygments_lexer": "ipython3",
   "version": "3.9.0"
  }
 },
 "nbformat": 4,
 "nbformat_minor": 2
}
